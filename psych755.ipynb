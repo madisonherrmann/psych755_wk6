{
 "cells": [
  {
   "cell_type": "markdown",
   "metadata": {
    "id": "rQX6GOIHYwzm"
   },
   "source": [
    "# Introduction"
   ]
  },
  {
   "cell_type": "markdown",
   "metadata": {
    "id": "xEe4tj3eYzxJ"
   },
   "source": [
    "The neural network model classifies whether or not a person has heart disease based on 11 features. The features include: age, gender, cholesterol, resting blood pressure, type of chest pain, maximum heart rate, exercise angina, fasting blood sugar, resting ECG results, and more. The features are the input patterns, and categorical variables are dummy-coded prior to use. The output is binary 0, meaning normal, or 1, indicating heart disease. The dataset was found on Kaggle. The model is trained on the features and predicts whether or not that person has heart disease. The structure included an input layer, two hidden layers, and an output layer. Adam was used as the optimizer and mean squared error as the loss function. Dropout and early stopping were implemented to avoid overfitting to the training data. Performance was assesed using accuracy. The validation accuracy reached 88.04%, indicating the model successfully learned the binary classification task. The model was based off of the Rumelhart example given in class, combined with a previous classification model I created for sentiment analysis. https://www.kaggle.com/code/azizozmen/heart-failure-predict-8-classification-techniques/notebook"
   ]
  },
  {
   "cell_type": "code",
   "execution_count": 1,
   "metadata": {
    "colab": {
     "base_uri": "https://localhost:8080/",
     "height": 136
    },
    "id": "K5LqBjSB3Huw",
    "outputId": "6c40e02e-ce0f-403c-a797-d6e3fc51e36f"
   },
   "outputs": [
    {
     "data": {
      "image/jpeg": "[encoded data removed]",
      "text/plain": [
       "<IPython.core.display.Image object>"
      ]
     },
     "execution_count": 1,
     "metadata": {},
     "output_type": "execute_result"
    }
   ],
   "source": [
    "from IPython.display import Image\n",
    "\n",
    "Image(filename='/Users/madisonherrmann/Downloads/psych755/assignments/NN_wk6/nnpic.jpeg')"
   ]
  },
  {
   "cell_type": "markdown",
   "metadata": {
    "id": "2PtuxogAZt7Y"
   },
   "source": [
    "Setting working directory"
   ]
  },
  {
   "cell_type": "code",
   "execution_count": 2,
   "metadata": {
    "colab": {
     "base_uri": "https://localhost:8080/"
    },
    "id": "_pJp7fr7Xp5u",
    "outputId": "d0fa7fa4-a8df-4383-b4f2-12ef6e99c83a"
   },
   "outputs": [
    {
     "name": "stdout",
     "output_type": "stream",
     "text": [
      "/Users/madisonherrmann/Downloads/psych755/assignments/NN_wk6\n"
     ]
    }
   ],
   "source": [
    "%cd /Users/madisonherrmann/Downloads/psych755/assignments/NN_wk6"
   ]
  },
  {
   "cell_type": "markdown",
   "metadata": {
    "id": "bNCYPh6sZxmM"
   },
   "source": [
    "Loading in packages"
   ]
  },
  {
   "cell_type": "code",
   "execution_count": 12,
   "metadata": {
    "id": "FISDy1WKXvQ7"
   },
   "outputs": [
    {
     "name": "stdout",
     "output_type": "stream",
     "text": [
      "Requirement already satisfied: numpy in /Users/madisonherrmann/miniconda3/lib/python3.8/site-packages (1.24.3)\n",
      "Requirement already satisfied: pandas in /Users/madisonherrmann/miniconda3/lib/python3.8/site-packages (2.0.3)\n",
      "Requirement already satisfied: tensorflow in /Users/madisonherrmann/miniconda3/lib/python3.8/site-packages (2.13.1)\n",
      "Requirement already satisfied: matplotlib in /Users/madisonherrmann/miniconda3/lib/python3.8/site-packages (3.7.5)\n",
      "Requirement already satisfied: scipy in /Users/madisonherrmann/miniconda3/lib/python3.8/site-packages (1.10.1)\n",
      "Requirement already satisfied: scikit-learn in /Users/madisonherrmann/miniconda3/lib/python3.8/site-packages (1.3.2)\n",
      "Requirement already satisfied: python-dateutil>=2.8.2 in /Users/madisonherrmann/miniconda3/lib/python3.8/site-packages (from pandas) (2.9.0.post0)\n",
      "Requirement already satisfied: pytz>=2020.1 in /Users/madisonherrmann/miniconda3/lib/python3.8/site-packages (from pandas) (2024.1)\n",
      "Requirement already satisfied: tzdata>=2022.1 in /Users/madisonherrmann/miniconda3/lib/python3.8/site-packages (from pandas) (2024.1)\n",
      "Requirement already satisfied: absl-py>=1.0.0 in /Users/madisonherrmann/miniconda3/lib/python3.8/site-packages (from tensorflow) (2.1.0)\n",
      "Requirement already satisfied: astunparse>=1.6.0 in /Users/madisonherrmann/miniconda3/lib/python3.8/site-packages (from tensorflow) (1.6.3)\n",
      "Requirement already satisfied: flatbuffers>=23.1.21 in /Users/madisonherrmann/miniconda3/lib/python3.8/site-packages (from tensorflow) (24.3.25)\n",
      "Requirement already satisfied: gast<=0.4.0,>=0.2.1 in /Users/madisonherrmann/miniconda3/lib/python3.8/site-packages (from tensorflow) (0.4.0)\n",
      "Requirement already satisfied: google-pasta>=0.1.1 in /Users/madisonherrmann/miniconda3/lib/python3.8/site-packages (from tensorflow) (0.2.0)\n",
      "Requirement already satisfied: h5py>=2.9.0 in /Users/madisonherrmann/miniconda3/lib/python3.8/site-packages (from tensorflow) (3.11.0)\n",
      "Requirement already satisfied: libclang>=13.0.0 in /Users/madisonherrmann/miniconda3/lib/python3.8/site-packages (from tensorflow) (18.1.1)\n",
      "Requirement already satisfied: opt-einsum>=2.3.2 in /Users/madisonherrmann/miniconda3/lib/python3.8/site-packages (from tensorflow) (3.3.0)\n",
      "Requirement already satisfied: packaging in /Users/madisonherrmann/miniconda3/lib/python3.8/site-packages (from tensorflow) (23.0)\n",
      "Requirement already satisfied: protobuf!=4.21.0,!=4.21.1,!=4.21.2,!=4.21.3,!=4.21.4,!=4.21.5,<5.0.0dev,>=3.20.3 in /Users/madisonherrmann/miniconda3/lib/python3.8/site-packages (from tensorflow) (4.25.4)\n",
      "Requirement already satisfied: setuptools in /Users/madisonherrmann/miniconda3/lib/python3.8/site-packages (from tensorflow) (67.8.0)\n",
      "Requirement already satisfied: six>=1.12.0 in /Users/madisonherrmann/miniconda3/lib/python3.8/site-packages (from tensorflow) (1.16.0)\n",
      "Requirement already satisfied: termcolor>=1.1.0 in /Users/madisonherrmann/miniconda3/lib/python3.8/site-packages (from tensorflow) (2.4.0)\n",
      "Requirement already satisfied: typing-extensions<4.6.0,>=3.6.6 in /Users/madisonherrmann/miniconda3/lib/python3.8/site-packages (from tensorflow) (4.5.0)\n",
      "Requirement already satisfied: wrapt>=1.11.0 in /Users/madisonherrmann/miniconda3/lib/python3.8/site-packages (from tensorflow) (1.16.0)\n",
      "Requirement already satisfied: grpcio<2.0,>=1.24.3 in /Users/madisonherrmann/miniconda3/lib/python3.8/site-packages (from tensorflow) (1.65.1)\n",
      "Requirement already satisfied: tensorboard<2.14,>=2.13 in /Users/madisonherrmann/miniconda3/lib/python3.8/site-packages (from tensorflow) (2.13.0)\n",
      "Requirement already satisfied: tensorflow-estimator<2.14,>=2.13.0 in /Users/madisonherrmann/miniconda3/lib/python3.8/site-packages (from tensorflow) (2.13.0)\n",
      "Requirement already satisfied: keras<2.14,>=2.13.1 in /Users/madisonherrmann/miniconda3/lib/python3.8/site-packages (from tensorflow) (2.13.1)\n",
      "Requirement already satisfied: tensorflow-io-gcs-filesystem>=0.23.1 in /Users/madisonherrmann/miniconda3/lib/python3.8/site-packages (from tensorflow) (0.34.0)\n",
      "Requirement already satisfied: contourpy>=1.0.1 in /Users/madisonherrmann/miniconda3/lib/python3.8/site-packages (from matplotlib) (1.1.1)\n",
      "Requirement already satisfied: cycler>=0.10 in /Users/madisonherrmann/miniconda3/lib/python3.8/site-packages (from matplotlib) (0.12.1)\n",
      "Requirement already satisfied: fonttools>=4.22.0 in /Users/madisonherrmann/miniconda3/lib/python3.8/site-packages (from matplotlib) (4.53.1)\n",
      "Requirement already satisfied: kiwisolver>=1.0.1 in /Users/madisonherrmann/miniconda3/lib/python3.8/site-packages (from matplotlib) (1.4.5)\n",
      "Requirement already satisfied: pillow>=6.2.0 in /Users/madisonherrmann/miniconda3/lib/python3.8/site-packages (from matplotlib) (10.4.0)\n",
      "Requirement already satisfied: pyparsing>=2.3.1 in /Users/madisonherrmann/miniconda3/lib/python3.8/site-packages (from matplotlib) (3.1.2)\n",
      "Requirement already satisfied: importlib-resources>=3.2.0 in /Users/madisonherrmann/miniconda3/lib/python3.8/site-packages (from matplotlib) (6.4.0)\n",
      "Requirement already satisfied: joblib>=1.1.1 in /Users/madisonherrmann/miniconda3/lib/python3.8/site-packages (from scikit-learn) (1.4.2)\n",
      "Requirement already satisfied: threadpoolctl>=2.0.0 in /Users/madisonherrmann/miniconda3/lib/python3.8/site-packages (from scikit-learn) (3.5.0)\n",
      "Requirement already satisfied: wheel<1.0,>=0.23.0 in /Users/madisonherrmann/miniconda3/lib/python3.8/site-packages (from astunparse>=1.6.0->tensorflow) (0.38.4)\n",
      "Requirement already satisfied: zipp>=3.1.0 in /Users/madisonherrmann/miniconda3/lib/python3.8/site-packages (from importlib-resources>=3.2.0->matplotlib) (3.19.2)\n",
      "Requirement already satisfied: google-auth<3,>=1.6.3 in /Users/madisonherrmann/miniconda3/lib/python3.8/site-packages (from tensorboard<2.14,>=2.13->tensorflow) (2.32.0)\n",
      "Requirement already satisfied: google-auth-oauthlib<1.1,>=0.5 in /Users/madisonherrmann/miniconda3/lib/python3.8/site-packages (from tensorboard<2.14,>=2.13->tensorflow) (1.0.0)\n",
      "Requirement already satisfied: markdown>=2.6.8 in /Users/madisonherrmann/miniconda3/lib/python3.8/site-packages (from tensorboard<2.14,>=2.13->tensorflow) (3.6)\n",
      "Requirement already satisfied: requests<3,>=2.21.0 in /Users/madisonherrmann/miniconda3/lib/python3.8/site-packages (from tensorboard<2.14,>=2.13->tensorflow) (2.32.3)\n",
      "Requirement already satisfied: tensorboard-data-server<0.8.0,>=0.7.0 in /Users/madisonherrmann/miniconda3/lib/python3.8/site-packages (from tensorboard<2.14,>=2.13->tensorflow) (0.7.2)\n",
      "Requirement already satisfied: werkzeug>=1.0.1 in /Users/madisonherrmann/miniconda3/lib/python3.8/site-packages (from tensorboard<2.14,>=2.13->tensorflow) (3.0.3)\n",
      "Requirement already satisfied: cachetools<6.0,>=2.0.0 in /Users/madisonherrmann/miniconda3/lib/python3.8/site-packages (from google-auth<3,>=1.6.3->tensorboard<2.14,>=2.13->tensorflow) (5.4.0)\n",
      "Requirement already satisfied: pyasn1-modules>=0.2.1 in /Users/madisonherrmann/miniconda3/lib/python3.8/site-packages (from google-auth<3,>=1.6.3->tensorboard<2.14,>=2.13->tensorflow) (0.4.0)\n",
      "Requirement already satisfied: rsa<5,>=3.1.4 in /Users/madisonherrmann/miniconda3/lib/python3.8/site-packages (from google-auth<3,>=1.6.3->tensorboard<2.14,>=2.13->tensorflow) (4.9)\n",
      "Requirement already satisfied: requests-oauthlib>=0.7.0 in /Users/madisonherrmann/miniconda3/lib/python3.8/site-packages (from google-auth-oauthlib<1.1,>=0.5->tensorboard<2.14,>=2.13->tensorflow) (2.0.0)\n",
      "Requirement already satisfied: importlib-metadata>=4.4 in /Users/madisonherrmann/miniconda3/lib/python3.8/site-packages (from markdown>=2.6.8->tensorboard<2.14,>=2.13->tensorflow) (7.2.1)\n",
      "Requirement already satisfied: charset-normalizer<4,>=2 in /Users/madisonherrmann/miniconda3/lib/python3.8/site-packages (from requests<3,>=2.21.0->tensorboard<2.14,>=2.13->tensorflow) (2.0.4)\n",
      "Requirement already satisfied: idna<4,>=2.5 in /Users/madisonherrmann/miniconda3/lib/python3.8/site-packages (from requests<3,>=2.21.0->tensorboard<2.14,>=2.13->tensorflow) (3.4)\n",
      "Requirement already satisfied: urllib3<3,>=1.21.1 in /Users/madisonherrmann/miniconda3/lib/python3.8/site-packages (from requests<3,>=2.21.0->tensorboard<2.14,>=2.13->tensorflow) (1.26.16)\n",
      "Requirement already satisfied: certifi>=2017.4.17 in /Users/madisonherrmann/miniconda3/lib/python3.8/site-packages (from requests<3,>=2.21.0->tensorboard<2.14,>=2.13->tensorflow) (2023.5.7)\n",
      "Requirement already satisfied: MarkupSafe>=2.1.1 in /Users/madisonherrmann/miniconda3/lib/python3.8/site-packages (from werkzeug>=1.0.1->tensorboard<2.14,>=2.13->tensorflow) (2.1.5)\n",
      "Requirement already satisfied: pyasn1<0.7.0,>=0.4.6 in /Users/madisonherrmann/miniconda3/lib/python3.8/site-packages (from pyasn1-modules>=0.2.1->google-auth<3,>=1.6.3->tensorboard<2.14,>=2.13->tensorflow) (0.6.0)\n",
      "Requirement already satisfied: oauthlib>=3.0.0 in /Users/madisonherrmann/miniconda3/lib/python3.8/site-packages (from requests-oauthlib>=0.7.0->google-auth-oauthlib<1.1,>=0.5->tensorboard<2.14,>=2.13->tensorflow) (3.2.2)\n"
     ]
    }
   ],
   "source": [
    "!pip install numpy pandas tensorflow matplotlib scipy scikit-learn\n",
    "\n",
    "import numpy as np  #Provides numpy arrays and methods\n",
    "import pandas as pd #Provides data frames\n",
    "\n",
    "#Tensorflow\n",
    "import tensorflow as tf #Tensorflor and Keras libraries\n",
    "from tensorflow.keras.layers import Input, Dense, Dropout   #Types of layers we will need\n",
    "from tensorflow.keras.callbacks import EarlyStopping #Early stopping callback\n",
    "from tensorflow.keras.models import Model, load_model  #Functions to build and load models\n",
    "from tensorflow.keras.layers import concatenate        #A function to concatenate layers\n",
    "\n",
    "#For visualization / analysis\n",
    "import matplotlib.pyplot as plt #Plotting functions\n",
    "\n",
    "#Below is for doing some analysis in Python\n",
    "import scipy.cluster.hierarchy as shc #Python function for hierarchical clustering\n",
    "from sklearn.manifold import MDS  #Python function for multidimensional scalinga\n",
    "from sklearn.preprocessing import StandardScaler # For standardizing\n",
    "from sklearn.model_selection import train_test_split\n"
   ]
  },
  {
   "cell_type": "markdown",
   "metadata": {
    "id": "Aa_tkv8TS0KC"
   },
   "source": [
    "Load in dataset"
   ]
  },
  {
   "cell_type": "code",
   "execution_count": 13,
   "metadata": {
    "colab": {
     "base_uri": "https://localhost:8080/",
     "height": 206
    },
    "id": "JkOlb42smw9I",
    "outputId": "694e0267-0c2f-4f05-cccb-0e8f3058d821"
   },
   "outputs": [
    {
     "data": {
      "text/html": [
       "<div>\n",
       "<style scoped>\n",
       "    .dataframe tbody tr th:only-of-type {\n",
       "        vertical-align: middle;\n",
       "    }\n",
       "\n",
       "    .dataframe tbody tr th {\n",
       "        vertical-align: top;\n",
       "    }\n",
       "\n",
       "    .dataframe thead th {\n",
       "        text-align: right;\n",
       "    }\n",
       "</style>\n",
       "<table border=\"1\" class=\"dataframe\">\n",
       "  <thead>\n",
       "    <tr style=\"text-align: right;\">\n",
       "      <th></th>\n",
       "      <th>Age</th>\n",
       "      <th>Sex</th>\n",
       "      <th>ChestPainType</th>\n",
       "      <th>RestingBP</th>\n",
       "      <th>Cholesterol</th>\n",
       "      <th>FastingBS</th>\n",
       "      <th>RestingECG</th>\n",
       "      <th>MaxHR</th>\n",
       "      <th>ExerciseAngina</th>\n",
       "      <th>Oldpeak</th>\n",
       "      <th>ST_Slope</th>\n",
       "      <th>HeartDisease</th>\n",
       "    </tr>\n",
       "  </thead>\n",
       "  <tbody>\n",
       "    <tr>\n",
       "      <th>0</th>\n",
       "      <td>40</td>\n",
       "      <td>M</td>\n",
       "      <td>ATA</td>\n",
       "      <td>140</td>\n",
       "      <td>289</td>\n",
       "      <td>0</td>\n",
       "      <td>Normal</td>\n",
       "      <td>172</td>\n",
       "      <td>N</td>\n",
       "      <td>0.0</td>\n",
       "      <td>Up</td>\n",
       "      <td>0</td>\n",
       "    </tr>\n",
       "    <tr>\n",
       "      <th>1</th>\n",
       "      <td>49</td>\n",
       "      <td>F</td>\n",
       "      <td>NAP</td>\n",
       "      <td>160</td>\n",
       "      <td>180</td>\n",
       "      <td>0</td>\n",
       "      <td>Normal</td>\n",
       "      <td>156</td>\n",
       "      <td>N</td>\n",
       "      <td>1.0</td>\n",
       "      <td>Flat</td>\n",
       "      <td>1</td>\n",
       "    </tr>\n",
       "    <tr>\n",
       "      <th>2</th>\n",
       "      <td>37</td>\n",
       "      <td>M</td>\n",
       "      <td>ATA</td>\n",
       "      <td>130</td>\n",
       "      <td>283</td>\n",
       "      <td>0</td>\n",
       "      <td>ST</td>\n",
       "      <td>98</td>\n",
       "      <td>N</td>\n",
       "      <td>0.0</td>\n",
       "      <td>Up</td>\n",
       "      <td>0</td>\n",
       "    </tr>\n",
       "    <tr>\n",
       "      <th>3</th>\n",
       "      <td>48</td>\n",
       "      <td>F</td>\n",
       "      <td>ASY</td>\n",
       "      <td>138</td>\n",
       "      <td>214</td>\n",
       "      <td>0</td>\n",
       "      <td>Normal</td>\n",
       "      <td>108</td>\n",
       "      <td>Y</td>\n",
       "      <td>1.5</td>\n",
       "      <td>Flat</td>\n",
       "      <td>1</td>\n",
       "    </tr>\n",
       "    <tr>\n",
       "      <th>4</th>\n",
       "      <td>54</td>\n",
       "      <td>M</td>\n",
       "      <td>NAP</td>\n",
       "      <td>150</td>\n",
       "      <td>195</td>\n",
       "      <td>0</td>\n",
       "      <td>Normal</td>\n",
       "      <td>122</td>\n",
       "      <td>N</td>\n",
       "      <td>0.0</td>\n",
       "      <td>Up</td>\n",
       "      <td>0</td>\n",
       "    </tr>\n",
       "  </tbody>\n",
       "</table>\n",
       "</div>"
      ],
      "text/plain": [
       "   Age Sex ChestPainType  RestingBP  Cholesterol  FastingBS RestingECG  MaxHR  \\\n",
       "0   40   M           ATA        140          289          0     Normal    172   \n",
       "1   49   F           NAP        160          180          0     Normal    156   \n",
       "2   37   M           ATA        130          283          0         ST     98   \n",
       "3   48   F           ASY        138          214          0     Normal    108   \n",
       "4   54   M           NAP        150          195          0     Normal    122   \n",
       "\n",
       "  ExerciseAngina  Oldpeak ST_Slope  HeartDisease  \n",
       "0              N      0.0       Up             0  \n",
       "1              N      1.0     Flat             1  \n",
       "2              N      0.0       Up             0  \n",
       "3              Y      1.5     Flat             1  \n",
       "4              N      0.0       Up             0  "
      ]
     },
     "execution_count": 13,
     "metadata": {},
     "output_type": "execute_result"
    }
   ],
   "source": [
    "df = pd.read_csv(\"heart.csv\")\n",
    "df.head()"
   ]
  },
  {
   "cell_type": "markdown",
   "metadata": {
    "id": "2iPZmZSbVbgp"
   },
   "source": [
    "Look at variable types"
   ]
  },
  {
   "cell_type": "code",
   "execution_count": 14,
   "metadata": {
    "colab": {
     "base_uri": "https://localhost:8080/"
    },
    "id": "uFZLGPpGVaR4",
    "outputId": "148edf2f-951b-45b2-90a6-7369159c1531"
   },
   "outputs": [
    {
     "name": "stdout",
     "output_type": "stream",
     "text": [
      "Age                 int64\n",
      "Sex                object\n",
      "ChestPainType      object\n",
      "RestingBP           int64\n",
      "Cholesterol         int64\n",
      "FastingBS           int64\n",
      "RestingECG         object\n",
      "MaxHR               int64\n",
      "ExerciseAngina     object\n",
      "Oldpeak           float64\n",
      "ST_Slope           object\n",
      "HeartDisease        int64\n",
      "dtype: object\n"
     ]
    }
   ],
   "source": [
    "print(df.dtypes)"
   ]
  },
  {
   "cell_type": "markdown",
   "metadata": {
    "id": "ajrXKjJXpe2j"
   },
   "source": [
    "Dummy coding necessary variables"
   ]
  },
  {
   "cell_type": "code",
   "execution_count": 15,
   "metadata": {
    "id": "Fag_oaaUnIfm"
   },
   "outputs": [],
   "source": [
    "df = pd.get_dummies(df, drop_first=True)"
   ]
  },
  {
   "cell_type": "markdown",
   "metadata": {
    "id": "BtN0hZ-ipiA3"
   },
   "source": [
    "Look at shape"
   ]
  },
  {
   "cell_type": "code",
   "execution_count": 16,
   "metadata": {
    "colab": {
     "base_uri": "https://localhost:8080/"
    },
    "id": "lC2cFMUFnYkR",
    "outputId": "4e967e72-9df7-4f07-e186-842863582020"
   },
   "outputs": [
    {
     "data": {
      "text/plain": [
       "(918, 16)"
      ]
     },
     "execution_count": 16,
     "metadata": {},
     "output_type": "execute_result"
    }
   ],
   "source": [
    "df.shape"
   ]
  },
  {
   "cell_type": "markdown",
   "metadata": {
    "id": "fnCjFMtzpjlz"
   },
   "source": [
    "Assign input and outputs"
   ]
  },
  {
   "cell_type": "code",
   "execution_count": 17,
   "metadata": {
    "id": "0GKcfrb8Syr1"
   },
   "outputs": [],
   "source": [
    "X = df.drop([\"HeartDisease\"], axis=1)\n",
    "Y = df[\"HeartDisease\"]"
   ]
  },
  {
   "cell_type": "markdown",
   "metadata": {
    "id": "xR-s24ZfpmiZ"
   },
   "source": [
    "Look at shape"
   ]
  },
  {
   "cell_type": "code",
   "execution_count": 18,
   "metadata": {
    "colab": {
     "base_uri": "https://localhost:8080/"
    },
    "id": "h7JsSlnEhFb0",
    "outputId": "22416c1e-2b96-4493-c3d3-48e4a1ca4b6e"
   },
   "outputs": [
    {
     "data": {
      "text/plain": [
       "(918, 15)"
      ]
     },
     "execution_count": 18,
     "metadata": {},
     "output_type": "execute_result"
    }
   ],
   "source": [
    "X.shape"
   ]
  },
  {
   "cell_type": "code",
   "execution_count": 19,
   "metadata": {
    "colab": {
     "base_uri": "https://localhost:8080/"
    },
    "id": "-dkA_sjbhMeH",
    "outputId": "ce5efc03-d9dd-4ccd-8fbf-d01515e4dcf6"
   },
   "outputs": [
    {
     "data": {
      "text/plain": [
       "(918,)"
      ]
     },
     "execution_count": 19,
     "metadata": {},
     "output_type": "execute_result"
    }
   ],
   "source": [
    "Y.shape"
   ]
  },
  {
   "cell_type": "markdown",
   "metadata": {
    "id": "gZBkneOwZ0tp"
   },
   "source": [
    "Split dataset into inputs/outputs for both training and test. The model will be trained on the training data and performance will be evaualted using the held-out test data."
   ]
  },
  {
   "cell_type": "code",
   "execution_count": 20,
   "metadata": {
    "id": "o3qzlp-sXzBn"
   },
   "outputs": [],
   "source": [
    "xtrn, xtst, ytrn, ytst = train_test_split(X, Y, test_size=0.1, random_state=42)"
   ]
  },
  {
   "cell_type": "markdown",
   "metadata": {
    "id": "V61nyGs-poy1"
   },
   "source": [
    "Look at shape"
   ]
  },
  {
   "cell_type": "code",
   "execution_count": 21,
   "metadata": {
    "colab": {
     "base_uri": "https://localhost:8080/"
    },
    "id": "FGfZ1KIXhPRy",
    "outputId": "268846cf-3348-4b80-a350-26831b2337ae"
   },
   "outputs": [
    {
     "data": {
      "text/plain": [
       "(826, 15)"
      ]
     },
     "execution_count": 21,
     "metadata": {},
     "output_type": "execute_result"
    }
   ],
   "source": [
    "xtrn.shape"
   ]
  },
  {
   "cell_type": "code",
   "execution_count": 22,
   "metadata": {
    "colab": {
     "base_uri": "https://localhost:8080/"
    },
    "id": "Is9S7NCNhRLs",
    "outputId": "6692e7ae-eb0d-47c0-ecb9-80b36c749ec2"
   },
   "outputs": [
    {
     "data": {
      "text/plain": [
       "(826,)"
      ]
     },
     "execution_count": 22,
     "metadata": {},
     "output_type": "execute_result"
    }
   ],
   "source": [
    "ytrn.shape"
   ]
  },
  {
   "cell_type": "code",
   "execution_count": 23,
   "metadata": {
    "colab": {
     "base_uri": "https://localhost:8080/"
    },
    "id": "Uaky8soLhSwu",
    "outputId": "83c96011-15b1-44b5-aed6-779b08bd8802"
   },
   "outputs": [
    {
     "data": {
      "text/plain": [
       "(92,)"
      ]
     },
     "execution_count": 23,
     "metadata": {},
     "output_type": "execute_result"
    }
   ],
   "source": [
    "ytst.shape"
   ]
  },
  {
   "cell_type": "code",
   "execution_count": 24,
   "metadata": {
    "colab": {
     "base_uri": "https://localhost:8080/"
    },
    "id": "Eda5nuafhUDn",
    "outputId": "05886a9a-9025-4099-899c-985243a4fadd"
   },
   "outputs": [
    {
     "data": {
      "text/plain": [
       "(92, 15)"
      ]
     },
     "execution_count": 24,
     "metadata": {},
     "output_type": "execute_result"
    }
   ],
   "source": [
    "xtst.shape"
   ]
  },
  {
   "cell_type": "markdown",
   "metadata": {
    "id": "MQVBQGl3pza9"
   },
   "source": [
    "Set model parameters"
   ]
  },
  {
   "cell_type": "code",
   "execution_count": 25,
   "metadata": {
    "id": "EfNSyY2HX6Zi"
   },
   "outputs": [],
   "source": [
    "#Set parameters for training here\n",
    "nepochs = 500 #Number of training epochs\n",
    "bsize = 4      #Batch size\n",
    "# Data preprocessing\n",
    "scaler = StandardScaler()\n",
    "xtrn_scaled = scaler.fit_transform(xtrn)\n",
    "xtst_scaled = scaler.transform(xtst)\n",
    "\n",
    "ytrn = ytrn\n",
    "ytst = ytst\n",
    "lrate = .0001 #Learning rate\n",
    "lossfunction = 'mean_squared_error'  #Loss function\n",
    "wtrange = 1.0  #Range for initial weight randomization\n",
    "\n",
    "#Define parameters for initial random weights:\n",
    "wt_init = tf.keras.initializers.RandomUniform(minval = -wtrange, maxval = wtrange, seed = 1111)\n",
    "\n",
    "#Set parameters for the gradient descent method:\n",
    "opt = tf.keras.optimizers.Adam(learning_rate=lrate)\n",
    "# Early stopping callback\n",
    "early_stopping = EarlyStopping(monitor='val_loss', patience=20, restore_best_weights=True)"
   ]
  },
  {
   "cell_type": "markdown",
   "metadata": {
    "id": "e8u9qWDtZ7lf"
   },
   "source": [
    "Building model"
   ]
  },
  {
   "cell_type": "code",
   "execution_count": 26,
   "metadata": {
    "id": "M29j8HL0YAot"
   },
   "outputs": [],
   "source": [
    "input_shape = xtrn.shape[1]\n",
    "output_units = 1\n",
    "# Create input layer\n",
    "xin = Input(shape=(input_shape,), name='input_layer')\n",
    "\n",
    "# Create hidden layers with dropout and L2 regularization\n",
    "xhid1 = Dense(units=64, activation='relu', kernel_initializer=wt_init, bias_initializer=wt_init,\n",
    "              kernel_regularizer=tf.keras.regularizers.l2(0.01))(xin)\n",
    "xhid1 = Dropout(0.5)(xhid1)\n",
    "xhid2 = Dense(units=32, activation='relu', kernel_initializer=wt_init, bias_initializer=wt_init,\n",
    "              kernel_regularizer=tf.keras.regularizers.l2(0.01))(xhid1)\n",
    "xhid2 = Dropout(0.5)(xhid2)\n",
    "\n",
    "# Create output layer\n",
    "xout = Dense(units=output_units, activation='sigmoid', kernel_initializer=wt_init, bias_initializer=wt_init)(xhid2)\n",
    "\n",
    "# Create model\n",
    "model = Model(inputs=xin, outputs=xout)"
   ]
  },
  {
   "cell_type": "markdown",
   "metadata": {
    "id": "yf48vUwDaE5a"
   },
   "source": [
    "Compile the model"
   ]
  },
  {
   "cell_type": "code",
   "execution_count": 27,
   "metadata": {
    "colab": {
     "base_uri": "https://localhost:8080/"
    },
    "id": "VF1bJaSUYDEn",
    "outputId": "fca77f80-f187-49c7-fa96-e23ea5b5ea97"
   },
   "outputs": [
    {
     "name": "stdout",
     "output_type": "stream",
     "text": [
      "Model: \"model\"\n",
      "_________________________________________________________________\n",
      " Layer (type)                Output Shape              Param #   \n",
      "=================================================================\n",
      " input_layer (InputLayer)    [(None, 15)]              0         \n",
      "                                                                 \n",
      " dense (Dense)               (None, 64)                1024      \n",
      "                                                                 \n",
      " dropout (Dropout)           (None, 64)                0         \n",
      "                                                                 \n",
      " dense_1 (Dense)             (None, 32)                2080      \n",
      "                                                                 \n",
      " dropout_1 (Dropout)         (None, 32)                0         \n",
      "                                                                 \n",
      " dense_2 (Dense)             (None, 1)                 33        \n",
      "                                                                 \n",
      "=================================================================\n",
      "Total params: 3137 (12.25 KB)\n",
      "Trainable params: 3137 (12.25 KB)\n",
      "Non-trainable params: 0 (0.00 Byte)\n",
      "_________________________________________________________________\n"
     ]
    }
   ],
   "source": [
    "# Compile the model\n",
    "model.compile(optimizer=opt, loss='binary_crossentropy', metrics=['accuracy'])\n",
    "\n",
    "# Print model summary\n",
    "model.summary()"
   ]
  },
  {
   "cell_type": "markdown",
   "metadata": {
    "id": "-BJ_zziAaGF4"
   },
   "source": [
    "Train the model"
   ]
  },
  {
   "cell_type": "code",
   "execution_count": 28,
   "metadata": {
    "colab": {
     "base_uri": "https://localhost:8080/"
    },
    "id": "b2HeKWePYDbJ",
    "outputId": "1d3ed9a5-ac1e-41df-ccda-230611fa1814"
   },
   "outputs": [
    {
     "name": "stdout",
     "output_type": "stream",
     "text": [
      "Epoch 1/500\n",
      "207/207 [==============================] - 2s 5ms/step - loss: 24.1945 - accuracy: 0.5339 - val_loss: 17.6491 - val_accuracy: 0.5543\n",
      "Epoch 2/500\n",
      "207/207 [==============================] - 0s 2ms/step - loss: 24.0686 - accuracy: 0.5206 - val_loss: 16.4919 - val_accuracy: 0.5761\n",
      "Epoch 3/500\n",
      "207/207 [==============================] - 1s 3ms/step - loss: 22.9560 - accuracy: 0.5218 - val_loss: 15.3432 - val_accuracy: 0.5978\n",
      "Epoch 4/500\n",
      "207/207 [==============================] - 0s 2ms/step - loss: 22.1708 - accuracy: 0.5278 - val_loss: 14.5155 - val_accuracy: 0.6630\n",
      "Epoch 5/500\n",
      "207/207 [==============================] - 1s 3ms/step - loss: 21.0523 - accuracy: 0.5642 - val_loss: 13.9536 - val_accuracy: 0.6739\n",
      "Epoch 6/500\n",
      "207/207 [==============================] - 1s 3ms/step - loss: 20.6197 - accuracy: 0.5787 - val_loss: 13.4249 - val_accuracy: 0.7174\n",
      "Epoch 7/500\n",
      "207/207 [==============================] - 0s 2ms/step - loss: 19.8077 - accuracy: 0.5666 - val_loss: 13.1544 - val_accuracy: 0.7500\n",
      "Epoch 8/500\n",
      "207/207 [==============================] - 1s 4ms/step - loss: 19.1941 - accuracy: 0.6138 - val_loss: 12.8769 - val_accuracy: 0.7500\n",
      "Epoch 9/500\n",
      "207/207 [==============================] - 1s 3ms/step - loss: 18.3586 - accuracy: 0.6065 - val_loss: 12.7382 - val_accuracy: 0.7826\n",
      "Epoch 10/500\n",
      "207/207 [==============================] - 1s 3ms/step - loss: 17.8933 - accuracy: 0.6102 - val_loss: 12.6103 - val_accuracy: 0.7826\n",
      "Epoch 11/500\n",
      "207/207 [==============================] - 0s 2ms/step - loss: 17.7116 - accuracy: 0.6283 - val_loss: 12.5202 - val_accuracy: 0.7826\n",
      "Epoch 12/500\n",
      "207/207 [==============================] - 1s 4ms/step - loss: 17.7996 - accuracy: 0.6174 - val_loss: 12.4056 - val_accuracy: 0.7826\n",
      "Epoch 13/500\n",
      "207/207 [==============================] - 0s 2ms/step - loss: 17.3695 - accuracy: 0.6283 - val_loss: 12.3190 - val_accuracy: 0.7826\n",
      "Epoch 14/500\n",
      "207/207 [==============================] - 0s 2ms/step - loss: 17.3797 - accuracy: 0.6344 - val_loss: 12.2235 - val_accuracy: 0.7717\n",
      "Epoch 15/500\n",
      "207/207 [==============================] - 1s 3ms/step - loss: 15.7779 - accuracy: 0.6574 - val_loss: 12.1397 - val_accuracy: 0.7717\n",
      "Epoch 16/500\n",
      "207/207 [==============================] - 1s 3ms/step - loss: 16.1518 - accuracy: 0.6562 - val_loss: 12.0587 - val_accuracy: 0.7609\n",
      "Epoch 17/500\n",
      "207/207 [==============================] - 0s 2ms/step - loss: 16.1888 - accuracy: 0.6489 - val_loss: 11.9819 - val_accuracy: 0.7500\n",
      "Epoch 18/500\n",
      "207/207 [==============================] - 1s 3ms/step - loss: 16.2581 - accuracy: 0.6538 - val_loss: 11.8923 - val_accuracy: 0.7500\n",
      "Epoch 19/500\n",
      "207/207 [==============================] - 1s 2ms/step - loss: 15.9794 - accuracy: 0.6586 - val_loss: 11.8147 - val_accuracy: 0.7500\n",
      "Epoch 20/500\n",
      "207/207 [==============================] - 0s 2ms/step - loss: 15.8453 - accuracy: 0.6477 - val_loss: 11.7594 - val_accuracy: 0.7717\n",
      "Epoch 21/500\n",
      "207/207 [==============================] - 1s 3ms/step - loss: 15.8480 - accuracy: 0.6816 - val_loss: 11.6862 - val_accuracy: 0.7717\n",
      "Epoch 22/500\n",
      "207/207 [==============================] - 1s 2ms/step - loss: 15.7332 - accuracy: 0.6646 - val_loss: 11.6337 - val_accuracy: 0.7826\n",
      "Epoch 23/500\n",
      "207/207 [==============================] - 1s 3ms/step - loss: 15.0220 - accuracy: 0.6985 - val_loss: 11.5772 - val_accuracy: 0.7826\n",
      "Epoch 24/500\n",
      "207/207 [==============================] - 1s 3ms/step - loss: 14.9695 - accuracy: 0.6768 - val_loss: 11.5097 - val_accuracy: 0.7935\n",
      "Epoch 25/500\n",
      "207/207 [==============================] - 1s 3ms/step - loss: 15.3216 - accuracy: 0.6792 - val_loss: 11.4628 - val_accuracy: 0.7935\n",
      "Epoch 26/500\n",
      "207/207 [==============================] - 0s 2ms/step - loss: 14.2174 - accuracy: 0.6949 - val_loss: 11.3968 - val_accuracy: 0.7935\n",
      "Epoch 27/500\n",
      "207/207 [==============================] - 1s 2ms/step - loss: 14.6791 - accuracy: 0.6792 - val_loss: 11.3341 - val_accuracy: 0.7935\n",
      "Epoch 28/500\n",
      "207/207 [==============================] - 1s 3ms/step - loss: 14.3171 - accuracy: 0.6973 - val_loss: 11.2620 - val_accuracy: 0.7935\n",
      "Epoch 29/500\n",
      "207/207 [==============================] - 1s 3ms/step - loss: 13.5190 - accuracy: 0.7421 - val_loss: 11.2086 - val_accuracy: 0.7935\n",
      "Epoch 30/500\n",
      "207/207 [==============================] - 1s 3ms/step - loss: 13.8342 - accuracy: 0.7215 - val_loss: 11.1458 - val_accuracy: 0.7935\n",
      "Epoch 31/500\n",
      "207/207 [==============================] - 1s 3ms/step - loss: 14.2596 - accuracy: 0.6925 - val_loss: 11.0844 - val_accuracy: 0.7935\n",
      "Epoch 32/500\n",
      "207/207 [==============================] - 1s 3ms/step - loss: 13.7845 - accuracy: 0.7082 - val_loss: 11.0285 - val_accuracy: 0.7935\n",
      "Epoch 33/500\n",
      "207/207 [==============================] - 1s 3ms/step - loss: 13.2376 - accuracy: 0.7082 - val_loss: 10.9501 - val_accuracy: 0.7935\n",
      "Epoch 34/500\n",
      "207/207 [==============================] - 1s 3ms/step - loss: 13.4699 - accuracy: 0.7058 - val_loss: 10.8757 - val_accuracy: 0.7935\n",
      "Epoch 35/500\n",
      "207/207 [==============================] - 1s 4ms/step - loss: 13.4293 - accuracy: 0.6949 - val_loss: 10.7899 - val_accuracy: 0.7935\n",
      "Epoch 36/500\n",
      "207/207 [==============================] - 1s 3ms/step - loss: 12.7788 - accuracy: 0.7337 - val_loss: 10.7316 - val_accuracy: 0.7935\n",
      "Epoch 37/500\n",
      "207/207 [==============================] - 1s 3ms/step - loss: 13.0272 - accuracy: 0.7191 - val_loss: 10.6635 - val_accuracy: 0.7935\n",
      "Epoch 38/500\n",
      "207/207 [==============================] - 1s 3ms/step - loss: 12.9021 - accuracy: 0.7215 - val_loss: 10.5997 - val_accuracy: 0.7935\n",
      "Epoch 39/500\n",
      "207/207 [==============================] - 1s 3ms/step - loss: 13.0688 - accuracy: 0.7155 - val_loss: 10.5280 - val_accuracy: 0.7935\n",
      "Epoch 40/500\n",
      "207/207 [==============================] - 1s 3ms/step - loss: 12.5787 - accuracy: 0.7119 - val_loss: 10.4714 - val_accuracy: 0.7935\n",
      "Epoch 41/500\n",
      "207/207 [==============================] - 1s 3ms/step - loss: 12.4631 - accuracy: 0.7373 - val_loss: 10.4067 - val_accuracy: 0.7935\n",
      "Epoch 42/500\n",
      "207/207 [==============================] - 1s 3ms/step - loss: 12.0899 - accuracy: 0.7215 - val_loss: 10.3438 - val_accuracy: 0.7935\n",
      "Epoch 43/500\n",
      "207/207 [==============================] - 1s 3ms/step - loss: 12.3056 - accuracy: 0.7288 - val_loss: 10.2650 - val_accuracy: 0.7935\n",
      "Epoch 44/500\n",
      "207/207 [==============================] - 1s 3ms/step - loss: 12.1470 - accuracy: 0.7397 - val_loss: 10.1889 - val_accuracy: 0.7935\n",
      "Epoch 45/500\n",
      "207/207 [==============================] - 1s 3ms/step - loss: 12.5168 - accuracy: 0.7167 - val_loss: 10.1255 - val_accuracy: 0.7935\n",
      "Epoch 46/500\n",
      "207/207 [==============================] - 1s 3ms/step - loss: 12.1571 - accuracy: 0.7094 - val_loss: 10.0598 - val_accuracy: 0.7935\n",
      "Epoch 47/500\n",
      "207/207 [==============================] - 1s 3ms/step - loss: 12.1312 - accuracy: 0.7337 - val_loss: 9.9955 - val_accuracy: 0.7935\n",
      "Epoch 48/500\n",
      "207/207 [==============================] - 1s 3ms/step - loss: 11.6740 - accuracy: 0.7458 - val_loss: 9.9215 - val_accuracy: 0.7935\n",
      "Epoch 49/500\n",
      "207/207 [==============================] - 1s 3ms/step - loss: 11.5776 - accuracy: 0.7324 - val_loss: 9.8556 - val_accuracy: 0.7935\n",
      "Epoch 50/500\n",
      "207/207 [==============================] - 1s 3ms/step - loss: 11.7974 - accuracy: 0.7542 - val_loss: 9.7767 - val_accuracy: 0.8043\n",
      "Epoch 51/500\n",
      "207/207 [==============================] - 1s 3ms/step - loss: 11.3853 - accuracy: 0.7494 - val_loss: 9.7021 - val_accuracy: 0.8043\n",
      "Epoch 52/500\n",
      "207/207 [==============================] - 1s 3ms/step - loss: 11.4904 - accuracy: 0.7458 - val_loss: 9.6296 - val_accuracy: 0.8043\n",
      "Epoch 53/500\n",
      "207/207 [==============================] - 1s 3ms/step - loss: 11.3206 - accuracy: 0.7167 - val_loss: 9.5649 - val_accuracy: 0.8043\n",
      "Epoch 54/500\n",
      "207/207 [==============================] - 1s 3ms/step - loss: 10.9176 - accuracy: 0.7385 - val_loss: 9.4976 - val_accuracy: 0.8043\n",
      "Epoch 55/500\n",
      "207/207 [==============================] - 0s 2ms/step - loss: 10.9690 - accuracy: 0.7458 - val_loss: 9.4292 - val_accuracy: 0.8043\n",
      "Epoch 56/500\n",
      "207/207 [==============================] - 0s 2ms/step - loss: 11.1900 - accuracy: 0.7385 - val_loss: 9.3474 - val_accuracy: 0.8152\n",
      "Epoch 57/500\n",
      "207/207 [==============================] - 0s 2ms/step - loss: 10.5566 - accuracy: 0.7567 - val_loss: 9.2768 - val_accuracy: 0.8152\n",
      "Epoch 58/500\n",
      "207/207 [==============================] - 0s 2ms/step - loss: 10.9719 - accuracy: 0.7579 - val_loss: 9.2092 - val_accuracy: 0.8043\n",
      "Epoch 59/500\n",
      "207/207 [==============================] - 0s 2ms/step - loss: 10.6425 - accuracy: 0.7615 - val_loss: 9.1489 - val_accuracy: 0.8043\n",
      "Epoch 60/500\n",
      "207/207 [==============================] - 0s 2ms/step - loss: 10.5561 - accuracy: 0.7736 - val_loss: 9.0789 - val_accuracy: 0.8043\n",
      "Epoch 61/500\n",
      "207/207 [==============================] - 1s 3ms/step - loss: 10.5755 - accuracy: 0.7337 - val_loss: 9.0119 - val_accuracy: 0.8043\n",
      "Epoch 62/500\n",
      "207/207 [==============================] - 0s 2ms/step - loss: 10.3325 - accuracy: 0.7603 - val_loss: 8.9542 - val_accuracy: 0.8043\n",
      "Epoch 63/500\n",
      "207/207 [==============================] - 0s 2ms/step - loss: 9.9783 - accuracy: 0.7615 - val_loss: 8.8844 - val_accuracy: 0.8043\n",
      "Epoch 64/500\n",
      "207/207 [==============================] - 0s 2ms/step - loss: 10.1039 - accuracy: 0.7542 - val_loss: 8.8119 - val_accuracy: 0.8043\n",
      "Epoch 65/500\n",
      "207/207 [==============================] - 0s 2ms/step - loss: 10.2550 - accuracy: 0.7312 - val_loss: 8.7524 - val_accuracy: 0.8043\n",
      "Epoch 66/500\n",
      "207/207 [==============================] - 0s 2ms/step - loss: 10.1498 - accuracy: 0.7760 - val_loss: 8.6860 - val_accuracy: 0.8152\n",
      "Epoch 67/500\n",
      "207/207 [==============================] - 0s 2ms/step - loss: 10.0486 - accuracy: 0.7530 - val_loss: 8.5964 - val_accuracy: 0.8152\n",
      "Epoch 68/500\n",
      "207/207 [==============================] - 0s 2ms/step - loss: 10.3422 - accuracy: 0.7228 - val_loss: 8.5310 - val_accuracy: 0.8043\n",
      "Epoch 69/500\n",
      "207/207 [==============================] - 0s 2ms/step - loss: 9.8050 - accuracy: 0.7542 - val_loss: 8.4602 - val_accuracy: 0.8152\n",
      "Epoch 70/500\n",
      "207/207 [==============================] - 0s 2ms/step - loss: 9.7971 - accuracy: 0.7554 - val_loss: 8.3940 - val_accuracy: 0.8043\n",
      "Epoch 71/500\n",
      "207/207 [==============================] - 0s 2ms/step - loss: 9.7552 - accuracy: 0.7446 - val_loss: 8.3302 - val_accuracy: 0.8152\n",
      "Epoch 72/500\n",
      "207/207 [==============================] - 1s 3ms/step - loss: 9.6419 - accuracy: 0.7409 - val_loss: 8.2644 - val_accuracy: 0.8152\n",
      "Epoch 73/500\n",
      "207/207 [==============================] - 0s 2ms/step - loss: 9.7609 - accuracy: 0.7603 - val_loss: 8.1971 - val_accuracy: 0.8152\n",
      "Epoch 74/500\n",
      "207/207 [==============================] - 0s 2ms/step - loss: 9.6633 - accuracy: 0.7567 - val_loss: 8.1254 - val_accuracy: 0.8261\n",
      "Epoch 75/500\n",
      "207/207 [==============================] - 0s 2ms/step - loss: 9.3085 - accuracy: 0.7591 - val_loss: 8.0606 - val_accuracy: 0.8261\n",
      "Epoch 76/500\n",
      "207/207 [==============================] - 0s 2ms/step - loss: 9.1539 - accuracy: 0.7639 - val_loss: 8.0025 - val_accuracy: 0.8261\n",
      "Epoch 77/500\n",
      "207/207 [==============================] - 0s 2ms/step - loss: 9.2808 - accuracy: 0.7518 - val_loss: 7.9437 - val_accuracy: 0.8152\n",
      "Epoch 78/500\n",
      "207/207 [==============================] - 0s 2ms/step - loss: 9.2953 - accuracy: 0.7518 - val_loss: 7.8812 - val_accuracy: 0.8152\n",
      "Epoch 79/500\n",
      "207/207 [==============================] - 0s 2ms/step - loss: 9.1162 - accuracy: 0.7530 - val_loss: 7.8265 - val_accuracy: 0.8261\n",
      "Epoch 80/500\n",
      "207/207 [==============================] - 0s 2ms/step - loss: 8.7936 - accuracy: 0.7676 - val_loss: 7.7755 - val_accuracy: 0.8261\n",
      "Epoch 81/500\n",
      "207/207 [==============================] - 0s 2ms/step - loss: 9.1581 - accuracy: 0.7397 - val_loss: 7.7124 - val_accuracy: 0.8261\n",
      "Epoch 82/500\n",
      "207/207 [==============================] - 1s 2ms/step - loss: 8.9159 - accuracy: 0.7409 - val_loss: 7.6459 - val_accuracy: 0.8261\n",
      "Epoch 83/500\n",
      "207/207 [==============================] - 0s 2ms/step - loss: 8.4254 - accuracy: 0.7639 - val_loss: 7.5860 - val_accuracy: 0.8261\n",
      "Epoch 84/500\n",
      "207/207 [==============================] - 0s 2ms/step - loss: 8.9112 - accuracy: 0.7567 - val_loss: 7.5173 - val_accuracy: 0.8261\n",
      "Epoch 85/500\n",
      "207/207 [==============================] - 0s 2ms/step - loss: 8.4865 - accuracy: 0.7748 - val_loss: 7.4544 - val_accuracy: 0.8261\n",
      "Epoch 86/500\n",
      "207/207 [==============================] - 0s 2ms/step - loss: 8.7492 - accuracy: 0.7651 - val_loss: 7.3933 - val_accuracy: 0.8261\n",
      "Epoch 87/500\n",
      "207/207 [==============================] - 0s 2ms/step - loss: 8.3005 - accuracy: 0.7688 - val_loss: 7.3345 - val_accuracy: 0.8261\n",
      "Epoch 88/500\n",
      "207/207 [==============================] - 0s 2ms/step - loss: 8.5939 - accuracy: 0.7579 - val_loss: 7.2657 - val_accuracy: 0.8261\n",
      "Epoch 89/500\n",
      "207/207 [==============================] - 1s 3ms/step - loss: 8.1733 - accuracy: 0.7567 - val_loss: 7.2001 - val_accuracy: 0.8261\n",
      "Epoch 90/500\n",
      "207/207 [==============================] - 1s 3ms/step - loss: 8.0912 - accuracy: 0.7676 - val_loss: 7.1505 - val_accuracy: 0.8261\n",
      "Epoch 91/500\n",
      "207/207 [==============================] - 1s 3ms/step - loss: 8.0255 - accuracy: 0.7567 - val_loss: 7.0976 - val_accuracy: 0.8261\n",
      "Epoch 92/500\n",
      "207/207 [==============================] - 0s 2ms/step - loss: 7.8759 - accuracy: 0.7821 - val_loss: 7.0359 - val_accuracy: 0.8261\n",
      "Epoch 93/500\n",
      "207/207 [==============================] - 1s 3ms/step - loss: 8.1234 - accuracy: 0.7591 - val_loss: 6.9726 - val_accuracy: 0.8261\n",
      "Epoch 94/500\n",
      "207/207 [==============================] - 0s 2ms/step - loss: 7.8288 - accuracy: 0.7688 - val_loss: 6.9100 - val_accuracy: 0.8261\n",
      "Epoch 95/500\n",
      "207/207 [==============================] - 1s 2ms/step - loss: 7.7722 - accuracy: 0.7567 - val_loss: 6.8529 - val_accuracy: 0.8261\n",
      "Epoch 96/500\n",
      "207/207 [==============================] - 0s 2ms/step - loss: 7.6053 - accuracy: 0.7724 - val_loss: 6.7924 - val_accuracy: 0.8152\n",
      "Epoch 97/500\n",
      "207/207 [==============================] - 1s 3ms/step - loss: 7.6531 - accuracy: 0.7542 - val_loss: 6.7436 - val_accuracy: 0.8261\n",
      "Epoch 98/500\n",
      "207/207 [==============================] - 0s 2ms/step - loss: 7.7409 - accuracy: 0.7554 - val_loss: 6.6841 - val_accuracy: 0.8261\n",
      "Epoch 99/500\n",
      "207/207 [==============================] - 0s 2ms/step - loss: 7.4642 - accuracy: 0.7833 - val_loss: 6.6289 - val_accuracy: 0.8261\n",
      "Epoch 100/500\n",
      "207/207 [==============================] - 0s 2ms/step - loss: 7.3980 - accuracy: 0.7833 - val_loss: 6.5760 - val_accuracy: 0.8261\n",
      "Epoch 101/500\n",
      "207/207 [==============================] - 0s 2ms/step - loss: 7.3885 - accuracy: 0.7651 - val_loss: 6.5197 - val_accuracy: 0.8261\n",
      "Epoch 102/500\n",
      "207/207 [==============================] - 0s 2ms/step - loss: 7.2125 - accuracy: 0.7772 - val_loss: 6.4713 - val_accuracy: 0.8261\n",
      "Epoch 103/500\n",
      "207/207 [==============================] - 0s 2ms/step - loss: 7.2095 - accuracy: 0.7676 - val_loss: 6.4133 - val_accuracy: 0.8261\n",
      "Epoch 104/500\n",
      "207/207 [==============================] - 0s 2ms/step - loss: 7.2213 - accuracy: 0.7785 - val_loss: 6.3518 - val_accuracy: 0.8261\n",
      "Epoch 105/500\n",
      "207/207 [==============================] - 0s 2ms/step - loss: 6.9778 - accuracy: 0.7990 - val_loss: 6.2926 - val_accuracy: 0.8261\n",
      "Epoch 106/500\n",
      "207/207 [==============================] - 0s 2ms/step - loss: 7.1857 - accuracy: 0.7530 - val_loss: 6.2321 - val_accuracy: 0.8261\n",
      "Epoch 107/500\n",
      "207/207 [==============================] - 0s 2ms/step - loss: 6.8020 - accuracy: 0.7978 - val_loss: 6.1776 - val_accuracy: 0.8261\n",
      "Epoch 108/500\n",
      "207/207 [==============================] - 0s 2ms/step - loss: 7.0321 - accuracy: 0.7591 - val_loss: 6.1247 - val_accuracy: 0.8261\n",
      "Epoch 109/500\n",
      "207/207 [==============================] - 0s 2ms/step - loss: 6.7888 - accuracy: 0.7736 - val_loss: 6.0764 - val_accuracy: 0.8261\n",
      "Epoch 110/500\n",
      "207/207 [==============================] - 1s 3ms/step - loss: 6.6352 - accuracy: 0.7712 - val_loss: 6.0274 - val_accuracy: 0.8261\n",
      "Epoch 111/500\n",
      "207/207 [==============================] - 0s 2ms/step - loss: 6.6813 - accuracy: 0.7809 - val_loss: 5.9764 - val_accuracy: 0.8261\n",
      "Epoch 112/500\n",
      "207/207 [==============================] - 0s 2ms/step - loss: 6.6942 - accuracy: 0.7482 - val_loss: 5.9251 - val_accuracy: 0.8261\n",
      "Epoch 113/500\n",
      "207/207 [==============================] - 1s 2ms/step - loss: 6.4605 - accuracy: 0.8002 - val_loss: 5.8735 - val_accuracy: 0.8261\n",
      "Epoch 114/500\n",
      "207/207 [==============================] - 0s 2ms/step - loss: 6.4771 - accuracy: 0.7591 - val_loss: 5.8236 - val_accuracy: 0.8261\n",
      "Epoch 115/500\n",
      "207/207 [==============================] - 0s 2ms/step - loss: 6.2791 - accuracy: 0.7893 - val_loss: 5.7702 - val_accuracy: 0.8261\n",
      "Epoch 116/500\n",
      "207/207 [==============================] - 0s 2ms/step - loss: 6.5277 - accuracy: 0.7458 - val_loss: 5.7142 - val_accuracy: 0.8261\n",
      "Epoch 117/500\n",
      "207/207 [==============================] - 1s 2ms/step - loss: 6.3983 - accuracy: 0.7554 - val_loss: 5.6610 - val_accuracy: 0.8261\n",
      "Epoch 118/500\n",
      "207/207 [==============================] - 0s 2ms/step - loss: 6.4878 - accuracy: 0.7530 - val_loss: 5.6103 - val_accuracy: 0.8261\n",
      "Epoch 119/500\n",
      "207/207 [==============================] - 0s 2ms/step - loss: 6.3147 - accuracy: 0.7748 - val_loss: 5.5600 - val_accuracy: 0.8261\n",
      "Epoch 120/500\n",
      "207/207 [==============================] - 0s 2ms/step - loss: 6.1047 - accuracy: 0.7893 - val_loss: 5.5089 - val_accuracy: 0.8261\n",
      "Epoch 121/500\n",
      "207/207 [==============================] - 1s 3ms/step - loss: 5.9521 - accuracy: 0.8063 - val_loss: 5.4592 - val_accuracy: 0.8261\n",
      "Epoch 122/500\n",
      "207/207 [==============================] - 1s 2ms/step - loss: 5.9639 - accuracy: 0.7785 - val_loss: 5.4108 - val_accuracy: 0.8261\n",
      "Epoch 123/500\n",
      "207/207 [==============================] - 1s 2ms/step - loss: 5.8557 - accuracy: 0.7966 - val_loss: 5.3633 - val_accuracy: 0.8261\n",
      "Epoch 124/500\n",
      "207/207 [==============================] - 0s 2ms/step - loss: 5.9411 - accuracy: 0.7494 - val_loss: 5.3050 - val_accuracy: 0.8261\n",
      "Epoch 125/500\n",
      "207/207 [==============================] - 1s 2ms/step - loss: 5.8002 - accuracy: 0.7748 - val_loss: 5.2501 - val_accuracy: 0.8261\n",
      "Epoch 126/500\n",
      "207/207 [==============================] - 0s 2ms/step - loss: 5.7488 - accuracy: 0.7663 - val_loss: 5.1954 - val_accuracy: 0.8152\n",
      "Epoch 127/500\n",
      "207/207 [==============================] - 0s 2ms/step - loss: 5.6492 - accuracy: 0.7845 - val_loss: 5.1428 - val_accuracy: 0.8152\n",
      "Epoch 128/500\n",
      "207/207 [==============================] - 0s 2ms/step - loss: 5.7500 - accuracy: 0.7688 - val_loss: 5.0917 - val_accuracy: 0.8152\n",
      "Epoch 129/500\n",
      "207/207 [==============================] - 1s 2ms/step - loss: 5.4598 - accuracy: 0.7785 - val_loss: 5.0396 - val_accuracy: 0.8152\n",
      "Epoch 130/500\n",
      "207/207 [==============================] - 0s 2ms/step - loss: 5.4399 - accuracy: 0.7954 - val_loss: 4.9898 - val_accuracy: 0.8152\n",
      "Epoch 131/500\n",
      "207/207 [==============================] - 1s 3ms/step - loss: 5.5401 - accuracy: 0.7627 - val_loss: 4.9399 - val_accuracy: 0.8152\n",
      "Epoch 132/500\n",
      "207/207 [==============================] - 0s 2ms/step - loss: 5.3605 - accuracy: 0.7893 - val_loss: 4.8907 - val_accuracy: 0.8152\n",
      "Epoch 133/500\n",
      "207/207 [==============================] - 0s 2ms/step - loss: 5.2529 - accuracy: 0.7881 - val_loss: 4.8408 - val_accuracy: 0.8152\n",
      "Epoch 134/500\n",
      "207/207 [==============================] - 1s 3ms/step - loss: 5.2919 - accuracy: 0.7627 - val_loss: 4.7937 - val_accuracy: 0.8152\n",
      "Epoch 135/500\n",
      "207/207 [==============================] - 1s 4ms/step - loss: 5.2158 - accuracy: 0.7833 - val_loss: 4.7449 - val_accuracy: 0.8152\n",
      "Epoch 136/500\n",
      "207/207 [==============================] - 0s 2ms/step - loss: 5.0734 - accuracy: 0.7845 - val_loss: 4.6964 - val_accuracy: 0.8152\n",
      "Epoch 137/500\n",
      "207/207 [==============================] - 0s 2ms/step - loss: 4.9811 - accuracy: 0.7966 - val_loss: 4.6528 - val_accuracy: 0.8152\n",
      "Epoch 138/500\n",
      "207/207 [==============================] - 1s 2ms/step - loss: 5.0524 - accuracy: 0.8027 - val_loss: 4.6028 - val_accuracy: 0.8152\n",
      "Epoch 139/500\n",
      "207/207 [==============================] - 1s 3ms/step - loss: 4.9083 - accuracy: 0.7724 - val_loss: 4.5558 - val_accuracy: 0.8152\n",
      "Epoch 140/500\n",
      "207/207 [==============================] - 1s 2ms/step - loss: 4.9783 - accuracy: 0.7785 - val_loss: 4.5092 - val_accuracy: 0.8043\n",
      "Epoch 141/500\n",
      "207/207 [==============================] - 1s 2ms/step - loss: 4.9619 - accuracy: 0.7567 - val_loss: 4.4608 - val_accuracy: 0.8043\n",
      "Epoch 142/500\n",
      "207/207 [==============================] - 1s 2ms/step - loss: 4.8548 - accuracy: 0.7542 - val_loss: 4.4142 - val_accuracy: 0.8043\n",
      "Epoch 143/500\n",
      "207/207 [==============================] - 1s 3ms/step - loss: 4.7003 - accuracy: 0.7833 - val_loss: 4.3696 - val_accuracy: 0.8043\n",
      "Epoch 144/500\n",
      "207/207 [==============================] - 1s 3ms/step - loss: 4.6433 - accuracy: 0.7724 - val_loss: 4.3245 - val_accuracy: 0.7935\n",
      "Epoch 145/500\n",
      "207/207 [==============================] - 0s 2ms/step - loss: 4.5906 - accuracy: 0.7712 - val_loss: 4.2774 - val_accuracy: 0.7935\n",
      "Epoch 146/500\n",
      "207/207 [==============================] - 1s 4ms/step - loss: 4.4950 - accuracy: 0.7966 - val_loss: 4.2299 - val_accuracy: 0.7935\n",
      "Epoch 147/500\n",
      "207/207 [==============================] - 1s 4ms/step - loss: 4.5590 - accuracy: 0.7821 - val_loss: 4.1817 - val_accuracy: 0.8043\n",
      "Epoch 148/500\n",
      "207/207 [==============================] - 1s 4ms/step - loss: 4.4391 - accuracy: 0.8099 - val_loss: 4.1309 - val_accuracy: 0.8043\n",
      "Epoch 149/500\n",
      "207/207 [==============================] - 1s 4ms/step - loss: 4.3316 - accuracy: 0.7797 - val_loss: 4.0837 - val_accuracy: 0.8043\n",
      "Epoch 150/500\n",
      "207/207 [==============================] - 1s 3ms/step - loss: 4.3271 - accuracy: 0.7930 - val_loss: 4.0356 - val_accuracy: 0.8152\n",
      "Epoch 151/500\n",
      "207/207 [==============================] - 1s 3ms/step - loss: 4.2059 - accuracy: 0.8039 - val_loss: 3.9883 - val_accuracy: 0.8043\n",
      "Epoch 152/500\n",
      "207/207 [==============================] - 1s 4ms/step - loss: 4.2766 - accuracy: 0.7809 - val_loss: 3.9417 - val_accuracy: 0.8152\n",
      "Epoch 153/500\n",
      "207/207 [==============================] - 1s 3ms/step - loss: 4.1928 - accuracy: 0.7772 - val_loss: 3.8961 - val_accuracy: 0.8043\n",
      "Epoch 154/500\n",
      "207/207 [==============================] - 1s 3ms/step - loss: 4.0373 - accuracy: 0.7930 - val_loss: 3.8486 - val_accuracy: 0.7935\n",
      "Epoch 155/500\n",
      "207/207 [==============================] - 1s 3ms/step - loss: 4.0886 - accuracy: 0.7869 - val_loss: 3.8031 - val_accuracy: 0.7935\n",
      "Epoch 156/500\n",
      "207/207 [==============================] - 1s 3ms/step - loss: 3.9666 - accuracy: 0.7966 - val_loss: 3.7556 - val_accuracy: 0.7935\n",
      "Epoch 157/500\n",
      "207/207 [==============================] - 0s 2ms/step - loss: 3.8827 - accuracy: 0.8002 - val_loss: 3.7084 - val_accuracy: 0.7935\n",
      "Epoch 158/500\n",
      "207/207 [==============================] - 0s 2ms/step - loss: 3.9049 - accuracy: 0.7676 - val_loss: 3.6606 - val_accuracy: 0.7935\n",
      "Epoch 159/500\n",
      "207/207 [==============================] - 1s 3ms/step - loss: 3.8630 - accuracy: 0.7845 - val_loss: 3.6130 - val_accuracy: 0.8043\n",
      "Epoch 160/500\n",
      "207/207 [==============================] - 1s 3ms/step - loss: 3.7916 - accuracy: 0.7591 - val_loss: 3.5687 - val_accuracy: 0.8043\n",
      "Epoch 161/500\n",
      "207/207 [==============================] - 1s 3ms/step - loss: 3.7590 - accuracy: 0.7881 - val_loss: 3.5236 - val_accuracy: 0.8043\n",
      "Epoch 162/500\n",
      "207/207 [==============================] - 1s 3ms/step - loss: 3.6620 - accuracy: 0.7906 - val_loss: 3.4797 - val_accuracy: 0.7935\n",
      "Epoch 163/500\n",
      "207/207 [==============================] - 1s 3ms/step - loss: 3.6205 - accuracy: 0.8002 - val_loss: 3.4309 - val_accuracy: 0.8043\n",
      "Epoch 164/500\n",
      "207/207 [==============================] - 1s 4ms/step - loss: 3.6389 - accuracy: 0.7857 - val_loss: 3.3840 - val_accuracy: 0.8043\n",
      "Epoch 165/500\n",
      "207/207 [==============================] - 1s 2ms/step - loss: 3.4857 - accuracy: 0.7906 - val_loss: 3.3378 - val_accuracy: 0.8043\n",
      "Epoch 166/500\n",
      "207/207 [==============================] - 1s 3ms/step - loss: 3.4529 - accuracy: 0.8027 - val_loss: 3.2974 - val_accuracy: 0.7935\n",
      "Epoch 167/500\n",
      "207/207 [==============================] - 0s 2ms/step - loss: 3.4892 - accuracy: 0.7736 - val_loss: 3.2542 - val_accuracy: 0.7935\n",
      "Epoch 168/500\n",
      "207/207 [==============================] - 0s 2ms/step - loss: 3.4064 - accuracy: 0.7857 - val_loss: 3.2112 - val_accuracy: 0.7935\n",
      "Epoch 169/500\n",
      "207/207 [==============================] - 0s 2ms/step - loss: 3.3289 - accuracy: 0.7906 - val_loss: 3.1688 - val_accuracy: 0.7935\n",
      "Epoch 170/500\n",
      "207/207 [==============================] - 0s 2ms/step - loss: 3.3109 - accuracy: 0.7881 - val_loss: 3.1280 - val_accuracy: 0.7935\n",
      "Epoch 171/500\n",
      "207/207 [==============================] - 0s 2ms/step - loss: 3.1812 - accuracy: 0.7906 - val_loss: 3.0850 - val_accuracy: 0.7935\n",
      "Epoch 172/500\n",
      "207/207 [==============================] - 0s 2ms/step - loss: 3.1998 - accuracy: 0.7893 - val_loss: 3.0434 - val_accuracy: 0.7935\n",
      "Epoch 173/500\n",
      "207/207 [==============================] - 0s 2ms/step - loss: 3.0994 - accuracy: 0.8002 - val_loss: 2.9970 - val_accuracy: 0.7935\n",
      "Epoch 174/500\n",
      "207/207 [==============================] - 1s 3ms/step - loss: 3.0840 - accuracy: 0.7760 - val_loss: 2.9526 - val_accuracy: 0.7935\n",
      "Epoch 175/500\n",
      "207/207 [==============================] - 1s 3ms/step - loss: 3.0638 - accuracy: 0.7772 - val_loss: 2.9067 - val_accuracy: 0.7935\n",
      "Epoch 176/500\n",
      "207/207 [==============================] - 0s 2ms/step - loss: 2.9526 - accuracy: 0.7942 - val_loss: 2.8633 - val_accuracy: 0.7935\n",
      "Epoch 177/500\n",
      "207/207 [==============================] - 0s 2ms/step - loss: 2.9317 - accuracy: 0.7797 - val_loss: 2.8217 - val_accuracy: 0.7935\n",
      "Epoch 178/500\n",
      "207/207 [==============================] - 1s 6ms/step - loss: 2.9131 - accuracy: 0.7869 - val_loss: 2.7792 - val_accuracy: 0.7935\n",
      "Epoch 179/500\n",
      "207/207 [==============================] - 2s 7ms/step - loss: 2.7555 - accuracy: 0.8027 - val_loss: 2.7373 - val_accuracy: 0.8043\n",
      "Epoch 180/500\n",
      "207/207 [==============================] - 1s 4ms/step - loss: 2.7763 - accuracy: 0.7857 - val_loss: 2.6951 - val_accuracy: 0.7935\n",
      "Epoch 181/500\n",
      "207/207 [==============================] - 2s 7ms/step - loss: 2.7237 - accuracy: 0.8015 - val_loss: 2.6548 - val_accuracy: 0.7935\n",
      "Epoch 182/500\n",
      "207/207 [==============================] - 1s 6ms/step - loss: 2.6951 - accuracy: 0.8136 - val_loss: 2.6127 - val_accuracy: 0.7935\n",
      "Epoch 183/500\n",
      "207/207 [==============================] - 1s 7ms/step - loss: 2.6664 - accuracy: 0.8027 - val_loss: 2.5716 - val_accuracy: 0.7935\n",
      "Epoch 184/500\n",
      "207/207 [==============================] - 2s 8ms/step - loss: 2.6314 - accuracy: 0.7930 - val_loss: 2.5289 - val_accuracy: 0.7935\n",
      "Epoch 185/500\n",
      "207/207 [==============================] - 2s 8ms/step - loss: 2.5543 - accuracy: 0.7833 - val_loss: 2.4875 - val_accuracy: 0.7935\n",
      "Epoch 186/500\n",
      "207/207 [==============================] - 1s 6ms/step - loss: 2.4999 - accuracy: 0.8063 - val_loss: 2.4489 - val_accuracy: 0.8043\n",
      "Epoch 187/500\n",
      "207/207 [==============================] - 1s 7ms/step - loss: 2.4680 - accuracy: 0.8027 - val_loss: 2.4061 - val_accuracy: 0.8261\n",
      "Epoch 188/500\n",
      "207/207 [==============================] - 2s 8ms/step - loss: 2.4553 - accuracy: 0.7942 - val_loss: 2.3696 - val_accuracy: 0.8152\n",
      "Epoch 189/500\n",
      "207/207 [==============================] - 1s 6ms/step - loss: 2.3730 - accuracy: 0.8039 - val_loss: 2.3314 - val_accuracy: 0.8043\n",
      "Epoch 190/500\n",
      "207/207 [==============================] - 1s 6ms/step - loss: 2.3511 - accuracy: 0.7942 - val_loss: 2.2925 - val_accuracy: 0.8152\n",
      "Epoch 191/500\n",
      "207/207 [==============================] - 1s 7ms/step - loss: 2.2895 - accuracy: 0.8184 - val_loss: 2.2540 - val_accuracy: 0.8043\n",
      "Epoch 192/500\n",
      "207/207 [==============================] - 1s 7ms/step - loss: 2.3266 - accuracy: 0.7906 - val_loss: 2.2187 - val_accuracy: 0.7935\n",
      "Epoch 193/500\n",
      "207/207 [==============================] - 1s 7ms/step - loss: 2.2514 - accuracy: 0.8123 - val_loss: 2.1850 - val_accuracy: 0.7935\n",
      "Epoch 194/500\n",
      "207/207 [==============================] - 1s 7ms/step - loss: 2.1893 - accuracy: 0.8111 - val_loss: 2.1459 - val_accuracy: 0.8043\n",
      "Epoch 195/500\n",
      "207/207 [==============================] - 1s 4ms/step - loss: 2.1825 - accuracy: 0.8075 - val_loss: 2.1073 - val_accuracy: 0.8152\n",
      "Epoch 196/500\n",
      "207/207 [==============================] - 1s 4ms/step - loss: 2.1018 - accuracy: 0.7978 - val_loss: 2.0704 - val_accuracy: 0.8152\n",
      "Epoch 197/500\n",
      "207/207 [==============================] - 1s 4ms/step - loss: 2.0652 - accuracy: 0.8232 - val_loss: 2.0365 - val_accuracy: 0.8043\n",
      "Epoch 198/500\n",
      "207/207 [==============================] - 1s 3ms/step - loss: 2.0382 - accuracy: 0.8075 - val_loss: 1.9987 - val_accuracy: 0.8152\n",
      "Epoch 199/500\n",
      "207/207 [==============================] - 1s 3ms/step - loss: 1.9790 - accuracy: 0.8305 - val_loss: 1.9641 - val_accuracy: 0.8152\n",
      "Epoch 200/500\n",
      "207/207 [==============================] - 1s 3ms/step - loss: 1.9778 - accuracy: 0.8111 - val_loss: 1.9297 - val_accuracy: 0.8152\n",
      "Epoch 201/500\n",
      "207/207 [==============================] - 1s 2ms/step - loss: 1.9506 - accuracy: 0.8123 - val_loss: 1.8954 - val_accuracy: 0.8152\n",
      "Epoch 202/500\n",
      "207/207 [==============================] - 1s 3ms/step - loss: 1.8834 - accuracy: 0.8208 - val_loss: 1.8619 - val_accuracy: 0.8152\n",
      "Epoch 203/500\n",
      "207/207 [==============================] - 1s 3ms/step - loss: 1.8459 - accuracy: 0.8208 - val_loss: 1.8281 - val_accuracy: 0.8152\n",
      "Epoch 204/500\n",
      "207/207 [==============================] - 1s 3ms/step - loss: 1.8258 - accuracy: 0.8136 - val_loss: 1.7992 - val_accuracy: 0.8152\n",
      "Epoch 205/500\n",
      "207/207 [==============================] - 0s 2ms/step - loss: 1.8231 - accuracy: 0.8123 - val_loss: 1.7671 - val_accuracy: 0.8261\n",
      "Epoch 206/500\n",
      "207/207 [==============================] - 1s 3ms/step - loss: 1.7576 - accuracy: 0.8317 - val_loss: 1.7363 - val_accuracy: 0.8261\n",
      "Epoch 207/500\n",
      "207/207 [==============================] - 1s 3ms/step - loss: 1.7182 - accuracy: 0.8390 - val_loss: 1.7047 - val_accuracy: 0.8261\n",
      "Epoch 208/500\n",
      "207/207 [==============================] - 1s 4ms/step - loss: 1.7067 - accuracy: 0.8196 - val_loss: 1.6746 - val_accuracy: 0.8152\n",
      "Epoch 209/500\n",
      "207/207 [==============================] - 1s 2ms/step - loss: 1.6729 - accuracy: 0.8220 - val_loss: 1.6487 - val_accuracy: 0.8152\n",
      "Epoch 210/500\n",
      "207/207 [==============================] - 1s 3ms/step - loss: 1.6211 - accuracy: 0.8160 - val_loss: 1.6163 - val_accuracy: 0.8152\n",
      "Epoch 211/500\n",
      "207/207 [==============================] - 1s 3ms/step - loss: 1.6255 - accuracy: 0.8378 - val_loss: 1.5863 - val_accuracy: 0.8152\n",
      "Epoch 212/500\n",
      "207/207 [==============================] - 1s 3ms/step - loss: 1.6232 - accuracy: 0.8015 - val_loss: 1.5575 - val_accuracy: 0.8152\n",
      "Epoch 213/500\n",
      "207/207 [==============================] - 1s 3ms/step - loss: 1.5830 - accuracy: 0.7978 - val_loss: 1.5310 - val_accuracy: 0.8261\n",
      "Epoch 214/500\n",
      "207/207 [==============================] - 1s 2ms/step - loss: 1.5402 - accuracy: 0.8196 - val_loss: 1.5018 - val_accuracy: 0.8261\n",
      "Epoch 215/500\n",
      "207/207 [==============================] - 1s 4ms/step - loss: 1.5162 - accuracy: 0.8245 - val_loss: 1.4751 - val_accuracy: 0.8370\n",
      "Epoch 216/500\n",
      "207/207 [==============================] - 1s 3ms/step - loss: 1.4602 - accuracy: 0.8281 - val_loss: 1.4487 - val_accuracy: 0.8370\n",
      "Epoch 217/500\n",
      "207/207 [==============================] - 0s 2ms/step - loss: 1.4406 - accuracy: 0.8232 - val_loss: 1.4253 - val_accuracy: 0.8370\n",
      "Epoch 218/500\n",
      "207/207 [==============================] - 1s 3ms/step - loss: 1.4313 - accuracy: 0.8184 - val_loss: 1.4004 - val_accuracy: 0.8370\n",
      "Epoch 219/500\n",
      "207/207 [==============================] - 1s 3ms/step - loss: 1.4054 - accuracy: 0.8208 - val_loss: 1.3771 - val_accuracy: 0.8370\n",
      "Epoch 220/500\n",
      "207/207 [==============================] - 1s 3ms/step - loss: 1.3812 - accuracy: 0.8245 - val_loss: 1.3531 - val_accuracy: 0.8370\n",
      "Epoch 221/500\n",
      "207/207 [==============================] - 0s 2ms/step - loss: 1.3547 - accuracy: 0.8220 - val_loss: 1.3308 - val_accuracy: 0.8370\n",
      "Epoch 222/500\n",
      "207/207 [==============================] - 1s 3ms/step - loss: 1.3225 - accuracy: 0.8196 - val_loss: 1.3092 - val_accuracy: 0.8370\n",
      "Epoch 223/500\n",
      "207/207 [==============================] - 1s 3ms/step - loss: 1.3002 - accuracy: 0.8378 - val_loss: 1.2880 - val_accuracy: 0.8370\n",
      "Epoch 224/500\n",
      "207/207 [==============================] - 0s 2ms/step - loss: 1.2583 - accuracy: 0.8329 - val_loss: 1.2671 - val_accuracy: 0.8370\n",
      "Epoch 225/500\n",
      "207/207 [==============================] - 1s 3ms/step - loss: 1.2672 - accuracy: 0.8099 - val_loss: 1.2447 - val_accuracy: 0.8370\n",
      "Epoch 226/500\n",
      "207/207 [==============================] - 1s 4ms/step - loss: 1.2501 - accuracy: 0.8305 - val_loss: 1.2252 - val_accuracy: 0.8370\n",
      "Epoch 227/500\n",
      "207/207 [==============================] - 1s 4ms/step - loss: 1.2157 - accuracy: 0.8245 - val_loss: 1.2033 - val_accuracy: 0.8370\n",
      "Epoch 228/500\n",
      "207/207 [==============================] - 1s 3ms/step - loss: 1.2009 - accuracy: 0.8281 - val_loss: 1.1812 - val_accuracy: 0.8370\n",
      "Epoch 229/500\n",
      "207/207 [==============================] - 1s 3ms/step - loss: 1.1961 - accuracy: 0.8317 - val_loss: 1.1603 - val_accuracy: 0.8370\n",
      "Epoch 230/500\n",
      "207/207 [==============================] - 1s 4ms/step - loss: 1.1804 - accuracy: 0.8208 - val_loss: 1.1397 - val_accuracy: 0.8370\n",
      "Epoch 231/500\n",
      "207/207 [==============================] - 1s 5ms/step - loss: 1.1416 - accuracy: 0.8317 - val_loss: 1.1210 - val_accuracy: 0.8370\n",
      "Epoch 232/500\n",
      "207/207 [==============================] - 1s 4ms/step - loss: 1.1245 - accuracy: 0.8293 - val_loss: 1.1021 - val_accuracy: 0.8478\n",
      "Epoch 233/500\n",
      "207/207 [==============================] - 1s 4ms/step - loss: 1.0980 - accuracy: 0.8232 - val_loss: 1.0840 - val_accuracy: 0.8478\n",
      "Epoch 234/500\n",
      "207/207 [==============================] - 1s 4ms/step - loss: 1.0849 - accuracy: 0.8438 - val_loss: 1.0640 - val_accuracy: 0.8478\n",
      "Epoch 235/500\n",
      "207/207 [==============================] - 1s 4ms/step - loss: 1.0587 - accuracy: 0.8160 - val_loss: 1.0488 - val_accuracy: 0.8478\n",
      "Epoch 236/500\n",
      "207/207 [==============================] - 1s 7ms/step - loss: 1.0389 - accuracy: 0.8378 - val_loss: 1.0306 - val_accuracy: 0.8478\n",
      "Epoch 237/500\n",
      "207/207 [==============================] - 1s 6ms/step - loss: 1.0395 - accuracy: 0.8257 - val_loss: 1.0122 - val_accuracy: 0.8478\n",
      "Epoch 238/500\n",
      "207/207 [==============================] - 2s 8ms/step - loss: 1.0141 - accuracy: 0.8402 - val_loss: 0.9965 - val_accuracy: 0.8478\n",
      "Epoch 239/500\n",
      "207/207 [==============================] - 1s 7ms/step - loss: 1.0111 - accuracy: 0.8402 - val_loss: 0.9816 - val_accuracy: 0.8478\n",
      "Epoch 240/500\n",
      "207/207 [==============================] - 1s 6ms/step - loss: 0.9597 - accuracy: 0.8656 - val_loss: 0.9659 - val_accuracy: 0.8478\n",
      "Epoch 241/500\n",
      "207/207 [==============================] - 1s 6ms/step - loss: 0.9653 - accuracy: 0.8378 - val_loss: 0.9523 - val_accuracy: 0.8478\n",
      "Epoch 242/500\n",
      "207/207 [==============================] - 1s 4ms/step - loss: 0.9748 - accuracy: 0.8317 - val_loss: 0.9382 - val_accuracy: 0.8587\n",
      "Epoch 243/500\n",
      "207/207 [==============================] - 1s 4ms/step - loss: 0.9488 - accuracy: 0.8450 - val_loss: 0.9252 - val_accuracy: 0.8478\n",
      "Epoch 244/500\n",
      "207/207 [==============================] - 1s 4ms/step - loss: 0.9313 - accuracy: 0.8390 - val_loss: 0.9118 - val_accuracy: 0.8478\n",
      "Epoch 245/500\n",
      "207/207 [==============================] - 1s 3ms/step - loss: 0.9129 - accuracy: 0.8390 - val_loss: 0.8988 - val_accuracy: 0.8478\n",
      "Epoch 246/500\n",
      "207/207 [==============================] - 1s 6ms/step - loss: 0.9071 - accuracy: 0.8390 - val_loss: 0.8862 - val_accuracy: 0.8478\n",
      "Epoch 247/500\n",
      "207/207 [==============================] - 1s 7ms/step - loss: 0.8665 - accuracy: 0.8511 - val_loss: 0.8741 - val_accuracy: 0.8478\n",
      "Epoch 248/500\n",
      "207/207 [==============================] - 1s 5ms/step - loss: 0.8780 - accuracy: 0.8426 - val_loss: 0.8610 - val_accuracy: 0.8587\n",
      "Epoch 249/500\n",
      "207/207 [==============================] - 1s 4ms/step - loss: 0.8698 - accuracy: 0.8341 - val_loss: 0.8500 - val_accuracy: 0.8587\n",
      "Epoch 250/500\n",
      "207/207 [==============================] - 1s 6ms/step - loss: 0.8514 - accuracy: 0.8475 - val_loss: 0.8390 - val_accuracy: 0.8587\n",
      "Epoch 251/500\n",
      "207/207 [==============================] - 1s 6ms/step - loss: 0.8499 - accuracy: 0.8559 - val_loss: 0.8260 - val_accuracy: 0.8587\n",
      "Epoch 252/500\n",
      "207/207 [==============================] - 1s 4ms/step - loss: 0.8415 - accuracy: 0.8450 - val_loss: 0.8165 - val_accuracy: 0.8587\n",
      "Epoch 253/500\n",
      "207/207 [==============================] - 1s 5ms/step - loss: 0.8249 - accuracy: 0.8475 - val_loss: 0.8055 - val_accuracy: 0.8587\n",
      "Epoch 254/500\n",
      "207/207 [==============================] - 1s 4ms/step - loss: 0.8040 - accuracy: 0.8487 - val_loss: 0.7938 - val_accuracy: 0.8587\n",
      "Epoch 255/500\n",
      "207/207 [==============================] - 1s 5ms/step - loss: 0.7930 - accuracy: 0.8462 - val_loss: 0.7830 - val_accuracy: 0.8587\n",
      "Epoch 256/500\n",
      "207/207 [==============================] - 1s 3ms/step - loss: 0.7731 - accuracy: 0.8535 - val_loss: 0.7733 - val_accuracy: 0.8696\n",
      "Epoch 257/500\n",
      "207/207 [==============================] - 1s 5ms/step - loss: 0.7893 - accuracy: 0.8499 - val_loss: 0.7626 - val_accuracy: 0.8696\n",
      "Epoch 258/500\n",
      "207/207 [==============================] - 1s 5ms/step - loss: 0.7646 - accuracy: 0.8499 - val_loss: 0.7518 - val_accuracy: 0.8696\n",
      "Epoch 259/500\n",
      "207/207 [==============================] - 1s 3ms/step - loss: 0.7620 - accuracy: 0.8450 - val_loss: 0.7440 - val_accuracy: 0.8696\n",
      "Epoch 260/500\n",
      "207/207 [==============================] - 1s 3ms/step - loss: 0.7661 - accuracy: 0.8523 - val_loss: 0.7344 - val_accuracy: 0.8696\n",
      "Epoch 261/500\n",
      "207/207 [==============================] - 1s 4ms/step - loss: 0.7429 - accuracy: 0.8547 - val_loss: 0.7272 - val_accuracy: 0.8696\n",
      "Epoch 262/500\n",
      "207/207 [==============================] - 0s 2ms/step - loss: 0.7177 - accuracy: 0.8523 - val_loss: 0.7168 - val_accuracy: 0.8696\n",
      "Epoch 263/500\n",
      "207/207 [==============================] - 1s 5ms/step - loss: 0.7418 - accuracy: 0.8547 - val_loss: 0.7087 - val_accuracy: 0.8696\n",
      "Epoch 264/500\n",
      "207/207 [==============================] - 1s 4ms/step - loss: 0.7147 - accuracy: 0.8462 - val_loss: 0.6966 - val_accuracy: 0.8804\n",
      "Epoch 265/500\n",
      "207/207 [==============================] - 1s 3ms/step - loss: 0.7139 - accuracy: 0.8535 - val_loss: 0.6899 - val_accuracy: 0.8804\n",
      "Epoch 266/500\n",
      "207/207 [==============================] - 1s 3ms/step - loss: 0.6996 - accuracy: 0.8523 - val_loss: 0.6831 - val_accuracy: 0.8804\n",
      "Epoch 267/500\n",
      "207/207 [==============================] - 1s 4ms/step - loss: 0.6767 - accuracy: 0.8523 - val_loss: 0.6735 - val_accuracy: 0.8804\n",
      "Epoch 268/500\n",
      "207/207 [==============================] - 1s 4ms/step - loss: 0.6790 - accuracy: 0.8462 - val_loss: 0.6662 - val_accuracy: 0.8804\n",
      "Epoch 269/500\n",
      "207/207 [==============================] - 1s 4ms/step - loss: 0.6711 - accuracy: 0.8632 - val_loss: 0.6595 - val_accuracy: 0.8804\n",
      "Epoch 270/500\n",
      "207/207 [==============================] - 1s 3ms/step - loss: 0.6842 - accuracy: 0.8378 - val_loss: 0.6541 - val_accuracy: 0.8804\n",
      "Epoch 271/500\n",
      "207/207 [==============================] - 1s 3ms/step - loss: 0.6701 - accuracy: 0.8487 - val_loss: 0.6494 - val_accuracy: 0.8696\n",
      "Epoch 272/500\n",
      "207/207 [==============================] - 1s 3ms/step - loss: 0.6565 - accuracy: 0.8535 - val_loss: 0.6428 - val_accuracy: 0.8696\n",
      "Epoch 273/500\n",
      "207/207 [==============================] - 1s 3ms/step - loss: 0.6678 - accuracy: 0.8596 - val_loss: 0.6389 - val_accuracy: 0.8696\n",
      "Epoch 274/500\n",
      "207/207 [==============================] - 1s 5ms/step - loss: 0.6530 - accuracy: 0.8462 - val_loss: 0.6327 - val_accuracy: 0.8696\n",
      "Epoch 275/500\n",
      "207/207 [==============================] - 1s 3ms/step - loss: 0.6552 - accuracy: 0.8644 - val_loss: 0.6254 - val_accuracy: 0.8696\n",
      "Epoch 276/500\n",
      "207/207 [==============================] - 1s 2ms/step - loss: 0.6523 - accuracy: 0.8462 - val_loss: 0.6218 - val_accuracy: 0.8696\n",
      "Epoch 277/500\n",
      "207/207 [==============================] - 1s 3ms/step - loss: 0.6427 - accuracy: 0.8438 - val_loss: 0.6160 - val_accuracy: 0.8696\n",
      "Epoch 278/500\n",
      "207/207 [==============================] - 1s 4ms/step - loss: 0.6446 - accuracy: 0.8414 - val_loss: 0.6114 - val_accuracy: 0.8696\n",
      "Epoch 279/500\n",
      "207/207 [==============================] - 1s 3ms/step - loss: 0.5952 - accuracy: 0.8680 - val_loss: 0.6059 - val_accuracy: 0.8696\n",
      "Epoch 280/500\n",
      "207/207 [==============================] - 1s 3ms/step - loss: 0.6182 - accuracy: 0.8571 - val_loss: 0.6009 - val_accuracy: 0.8696\n",
      "Epoch 281/500\n",
      "207/207 [==============================] - 1s 3ms/step - loss: 0.5997 - accuracy: 0.8487 - val_loss: 0.5966 - val_accuracy: 0.8696\n",
      "Epoch 282/500\n",
      "207/207 [==============================] - 1s 3ms/step - loss: 0.5876 - accuracy: 0.8535 - val_loss: 0.5907 - val_accuracy: 0.8696\n",
      "Epoch 283/500\n",
      "207/207 [==============================] - 1s 3ms/step - loss: 0.6291 - accuracy: 0.8487 - val_loss: 0.5877 - val_accuracy: 0.8696\n",
      "Epoch 284/500\n",
      "207/207 [==============================] - 1s 4ms/step - loss: 0.6035 - accuracy: 0.8571 - val_loss: 0.5824 - val_accuracy: 0.8696\n",
      "Epoch 285/500\n",
      "207/207 [==============================] - 1s 3ms/step - loss: 0.6043 - accuracy: 0.8511 - val_loss: 0.5770 - val_accuracy: 0.8696\n",
      "Epoch 286/500\n",
      "207/207 [==============================] - 1s 3ms/step - loss: 0.5959 - accuracy: 0.8535 - val_loss: 0.5729 - val_accuracy: 0.8696\n",
      "Epoch 287/500\n",
      "207/207 [==============================] - 1s 3ms/step - loss: 0.5891 - accuracy: 0.8535 - val_loss: 0.5686 - val_accuracy: 0.8696\n",
      "Epoch 288/500\n",
      "207/207 [==============================] - 1s 5ms/step - loss: 0.5837 - accuracy: 0.8462 - val_loss: 0.5653 - val_accuracy: 0.8696\n",
      "Epoch 289/500\n",
      "207/207 [==============================] - 1s 4ms/step - loss: 0.5725 - accuracy: 0.8620 - val_loss: 0.5612 - val_accuracy: 0.8696\n",
      "Epoch 290/500\n",
      "207/207 [==============================] - 1s 4ms/step - loss: 0.5532 - accuracy: 0.8644 - val_loss: 0.5563 - val_accuracy: 0.8696\n",
      "Epoch 291/500\n",
      "207/207 [==============================] - 1s 4ms/step - loss: 0.5508 - accuracy: 0.8559 - val_loss: 0.5513 - val_accuracy: 0.8696\n",
      "Epoch 292/500\n",
      "207/207 [==============================] - 1s 4ms/step - loss: 0.5575 - accuracy: 0.8487 - val_loss: 0.5464 - val_accuracy: 0.8804\n",
      "Epoch 293/500\n",
      "207/207 [==============================] - 1s 3ms/step - loss: 0.5455 - accuracy: 0.8511 - val_loss: 0.5437 - val_accuracy: 0.8696\n",
      "Epoch 294/500\n",
      "207/207 [==============================] - 1s 3ms/step - loss: 0.5445 - accuracy: 0.8620 - val_loss: 0.5393 - val_accuracy: 0.8804\n",
      "Epoch 295/500\n",
      "207/207 [==============================] - 1s 3ms/step - loss: 0.5444 - accuracy: 0.8523 - val_loss: 0.5349 - val_accuracy: 0.8804\n",
      "Epoch 296/500\n",
      "207/207 [==============================] - 1s 4ms/step - loss: 0.5569 - accuracy: 0.8523 - val_loss: 0.5321 - val_accuracy: 0.8804\n",
      "Epoch 297/500\n",
      "207/207 [==============================] - 1s 3ms/step - loss: 0.5442 - accuracy: 0.8402 - val_loss: 0.5281 - val_accuracy: 0.8804\n",
      "Epoch 298/500\n",
      "207/207 [==============================] - 1s 4ms/step - loss: 0.5013 - accuracy: 0.8608 - val_loss: 0.5243 - val_accuracy: 0.8804\n",
      "Epoch 299/500\n",
      "207/207 [==============================] - 1s 3ms/step - loss: 0.5435 - accuracy: 0.8487 - val_loss: 0.5214 - val_accuracy: 0.8804\n",
      "Epoch 300/500\n",
      "207/207 [==============================] - 1s 3ms/step - loss: 0.5334 - accuracy: 0.8584 - val_loss: 0.5186 - val_accuracy: 0.8804\n",
      "Epoch 301/500\n",
      "207/207 [==============================] - 1s 3ms/step - loss: 0.5365 - accuracy: 0.8632 - val_loss: 0.5170 - val_accuracy: 0.8696\n",
      "Epoch 302/500\n",
      "207/207 [==============================] - 1s 3ms/step - loss: 0.5280 - accuracy: 0.8438 - val_loss: 0.5145 - val_accuracy: 0.8804\n",
      "Epoch 303/500\n",
      "207/207 [==============================] - 1s 3ms/step - loss: 0.5099 - accuracy: 0.8656 - val_loss: 0.5105 - val_accuracy: 0.8804\n",
      "Epoch 304/500\n",
      "207/207 [==============================] - 1s 3ms/step - loss: 0.5396 - accuracy: 0.8596 - val_loss: 0.5075 - val_accuracy: 0.8804\n",
      "Epoch 305/500\n",
      "207/207 [==============================] - 1s 3ms/step - loss: 0.5096 - accuracy: 0.8547 - val_loss: 0.5059 - val_accuracy: 0.8804\n",
      "Epoch 306/500\n",
      "207/207 [==============================] - 1s 3ms/step - loss: 0.5239 - accuracy: 0.8620 - val_loss: 0.5052 - val_accuracy: 0.8804\n",
      "Epoch 307/500\n",
      "207/207 [==============================] - 1s 3ms/step - loss: 0.5057 - accuracy: 0.8668 - val_loss: 0.5021 - val_accuracy: 0.8804\n",
      "Epoch 308/500\n",
      "207/207 [==============================] - 1s 3ms/step - loss: 0.5207 - accuracy: 0.8765 - val_loss: 0.4995 - val_accuracy: 0.8804\n",
      "Epoch 309/500\n",
      "207/207 [==============================] - 1s 3ms/step - loss: 0.5195 - accuracy: 0.8426 - val_loss: 0.4968 - val_accuracy: 0.8804\n",
      "Epoch 310/500\n",
      "207/207 [==============================] - 1s 3ms/step - loss: 0.5056 - accuracy: 0.8644 - val_loss: 0.4943 - val_accuracy: 0.8804\n",
      "Epoch 311/500\n",
      "207/207 [==============================] - 1s 3ms/step - loss: 0.5121 - accuracy: 0.8632 - val_loss: 0.4913 - val_accuracy: 0.8804\n",
      "Epoch 312/500\n",
      "207/207 [==============================] - 1s 3ms/step - loss: 0.4996 - accuracy: 0.8632 - val_loss: 0.4886 - val_accuracy: 0.8804\n",
      "Epoch 313/500\n",
      "207/207 [==============================] - 1s 3ms/step - loss: 0.5028 - accuracy: 0.8668 - val_loss: 0.4879 - val_accuracy: 0.8804\n",
      "Epoch 314/500\n",
      "207/207 [==============================] - 1s 3ms/step - loss: 0.4948 - accuracy: 0.8571 - val_loss: 0.4848 - val_accuracy: 0.8804\n",
      "Epoch 315/500\n",
      "207/207 [==============================] - 1s 3ms/step - loss: 0.4794 - accuracy: 0.8632 - val_loss: 0.4827 - val_accuracy: 0.8804\n",
      "Epoch 316/500\n",
      "207/207 [==============================] - 0s 2ms/step - loss: 0.4762 - accuracy: 0.8850 - val_loss: 0.4798 - val_accuracy: 0.8804\n",
      "Epoch 317/500\n",
      "207/207 [==============================] - 1s 2ms/step - loss: 0.4776 - accuracy: 0.8608 - val_loss: 0.4784 - val_accuracy: 0.8804\n",
      "Epoch 318/500\n",
      "207/207 [==============================] - 1s 3ms/step - loss: 0.4902 - accuracy: 0.8668 - val_loss: 0.4774 - val_accuracy: 0.8804\n",
      "Epoch 319/500\n",
      "207/207 [==============================] - 1s 3ms/step - loss: 0.4732 - accuracy: 0.8608 - val_loss: 0.4756 - val_accuracy: 0.8804\n",
      "Epoch 320/500\n",
      "207/207 [==============================] - 1s 3ms/step - loss: 0.4890 - accuracy: 0.8608 - val_loss: 0.4744 - val_accuracy: 0.8696\n",
      "Epoch 321/500\n",
      "207/207 [==============================] - 1s 3ms/step - loss: 0.4817 - accuracy: 0.8571 - val_loss: 0.4728 - val_accuracy: 0.8696\n",
      "Epoch 322/500\n",
      "207/207 [==============================] - 1s 4ms/step - loss: 0.4722 - accuracy: 0.8656 - val_loss: 0.4705 - val_accuracy: 0.8804\n",
      "Epoch 323/500\n",
      "207/207 [==============================] - 1s 4ms/step - loss: 0.4705 - accuracy: 0.8620 - val_loss: 0.4669 - val_accuracy: 0.8804\n",
      "Epoch 324/500\n",
      "207/207 [==============================] - 1s 3ms/step - loss: 0.4852 - accuracy: 0.8656 - val_loss: 0.4652 - val_accuracy: 0.8804\n",
      "Epoch 325/500\n",
      "207/207 [==============================] - 1s 3ms/step - loss: 0.4735 - accuracy: 0.8668 - val_loss: 0.4636 - val_accuracy: 0.8804\n",
      "Epoch 326/500\n",
      "207/207 [==============================] - 1s 3ms/step - loss: 0.4552 - accuracy: 0.8741 - val_loss: 0.4611 - val_accuracy: 0.8804\n",
      "Epoch 327/500\n",
      "207/207 [==============================] - 1s 3ms/step - loss: 0.4734 - accuracy: 0.8608 - val_loss: 0.4589 - val_accuracy: 0.8804\n",
      "Epoch 328/500\n",
      "207/207 [==============================] - 0s 2ms/step - loss: 0.4797 - accuracy: 0.8571 - val_loss: 0.4559 - val_accuracy: 0.8804\n",
      "Epoch 329/500\n",
      "207/207 [==============================] - 1s 3ms/step - loss: 0.4618 - accuracy: 0.8668 - val_loss: 0.4550 - val_accuracy: 0.8804\n",
      "Epoch 330/500\n",
      "207/207 [==============================] - 1s 3ms/step - loss: 0.4662 - accuracy: 0.8571 - val_loss: 0.4539 - val_accuracy: 0.8804\n",
      "Epoch 331/500\n",
      "207/207 [==============================] - 1s 3ms/step - loss: 0.4652 - accuracy: 0.8656 - val_loss: 0.4543 - val_accuracy: 0.8804\n",
      "Epoch 332/500\n",
      "207/207 [==============================] - 1s 3ms/step - loss: 0.4573 - accuracy: 0.8717 - val_loss: 0.4523 - val_accuracy: 0.8804\n",
      "Epoch 333/500\n",
      "207/207 [==============================] - 1s 2ms/step - loss: 0.4551 - accuracy: 0.8547 - val_loss: 0.4510 - val_accuracy: 0.8804\n",
      "Epoch 334/500\n",
      "207/207 [==============================] - 0s 2ms/step - loss: 0.4628 - accuracy: 0.8584 - val_loss: 0.4497 - val_accuracy: 0.8804\n",
      "Epoch 335/500\n",
      "207/207 [==============================] - 1s 3ms/step - loss: 0.4461 - accuracy: 0.8668 - val_loss: 0.4476 - val_accuracy: 0.8804\n",
      "Epoch 336/500\n",
      "207/207 [==============================] - 1s 3ms/step - loss: 0.4653 - accuracy: 0.8571 - val_loss: 0.4468 - val_accuracy: 0.8804\n",
      "Epoch 337/500\n",
      "207/207 [==============================] - 1s 3ms/step - loss: 0.4486 - accuracy: 0.8644 - val_loss: 0.4446 - val_accuracy: 0.8804\n",
      "Epoch 338/500\n",
      "207/207 [==============================] - 1s 4ms/step - loss: 0.4481 - accuracy: 0.8596 - val_loss: 0.4437 - val_accuracy: 0.8804\n",
      "Epoch 339/500\n",
      "207/207 [==============================] - 1s 3ms/step - loss: 0.4585 - accuracy: 0.8753 - val_loss: 0.4424 - val_accuracy: 0.8804\n",
      "Epoch 340/500\n",
      "207/207 [==============================] - 1s 3ms/step - loss: 0.4454 - accuracy: 0.8692 - val_loss: 0.4406 - val_accuracy: 0.8804\n",
      "Epoch 341/500\n",
      "207/207 [==============================] - 1s 3ms/step - loss: 0.4396 - accuracy: 0.8741 - val_loss: 0.4393 - val_accuracy: 0.8696\n",
      "Epoch 342/500\n",
      "207/207 [==============================] - 1s 3ms/step - loss: 0.4564 - accuracy: 0.8644 - val_loss: 0.4386 - val_accuracy: 0.8804\n",
      "Epoch 343/500\n",
      "207/207 [==============================] - 1s 3ms/step - loss: 0.4597 - accuracy: 0.8680 - val_loss: 0.4386 - val_accuracy: 0.8804\n",
      "Epoch 344/500\n",
      "207/207 [==============================] - 1s 2ms/step - loss: 0.4263 - accuracy: 0.8668 - val_loss: 0.4380 - val_accuracy: 0.8696\n",
      "Epoch 345/500\n",
      "207/207 [==============================] - 1s 3ms/step - loss: 0.4490 - accuracy: 0.8680 - val_loss: 0.4386 - val_accuracy: 0.8804\n",
      "Epoch 346/500\n",
      "207/207 [==============================] - 1s 2ms/step - loss: 0.4283 - accuracy: 0.8668 - val_loss: 0.4374 - val_accuracy: 0.8804\n",
      "Epoch 347/500\n",
      "207/207 [==============================] - 1s 3ms/step - loss: 0.4472 - accuracy: 0.8547 - val_loss: 0.4363 - val_accuracy: 0.8804\n",
      "Epoch 348/500\n",
      "207/207 [==============================] - 1s 3ms/step - loss: 0.4358 - accuracy: 0.8596 - val_loss: 0.4352 - val_accuracy: 0.8696\n",
      "Epoch 349/500\n",
      "207/207 [==============================] - 1s 3ms/step - loss: 0.4356 - accuracy: 0.8668 - val_loss: 0.4338 - val_accuracy: 0.8696\n",
      "Epoch 350/500\n",
      "207/207 [==============================] - 1s 3ms/step - loss: 0.4179 - accuracy: 0.8668 - val_loss: 0.4333 - val_accuracy: 0.8696\n",
      "Epoch 351/500\n",
      "207/207 [==============================] - 1s 3ms/step - loss: 0.4295 - accuracy: 0.8656 - val_loss: 0.4328 - val_accuracy: 0.8696\n",
      "Epoch 352/500\n",
      "207/207 [==============================] - 0s 2ms/step - loss: 0.4239 - accuracy: 0.8680 - val_loss: 0.4325 - val_accuracy: 0.8804\n",
      "Epoch 353/500\n",
      "207/207 [==============================] - 1s 2ms/step - loss: 0.4141 - accuracy: 0.8680 - val_loss: 0.4298 - val_accuracy: 0.8696\n",
      "Epoch 354/500\n",
      "207/207 [==============================] - 0s 2ms/step - loss: 0.4400 - accuracy: 0.8584 - val_loss: 0.4290 - val_accuracy: 0.8696\n",
      "Epoch 355/500\n",
      "207/207 [==============================] - 1s 2ms/step - loss: 0.4220 - accuracy: 0.8717 - val_loss: 0.4286 - val_accuracy: 0.8696\n",
      "Epoch 356/500\n",
      "207/207 [==============================] - 1s 3ms/step - loss: 0.4356 - accuracy: 0.8656 - val_loss: 0.4284 - val_accuracy: 0.8696\n",
      "Epoch 357/500\n",
      "207/207 [==============================] - 1s 3ms/step - loss: 0.4351 - accuracy: 0.8668 - val_loss: 0.4280 - val_accuracy: 0.8696\n",
      "Epoch 358/500\n",
      "207/207 [==============================] - 1s 3ms/step - loss: 0.4206 - accuracy: 0.8668 - val_loss: 0.4266 - val_accuracy: 0.8696\n",
      "Epoch 359/500\n",
      "207/207 [==============================] - 1s 2ms/step - loss: 0.4384 - accuracy: 0.8547 - val_loss: 0.4269 - val_accuracy: 0.8696\n",
      "Epoch 360/500\n",
      "207/207 [==============================] - 1s 3ms/step - loss: 0.4082 - accuracy: 0.8620 - val_loss: 0.4257 - val_accuracy: 0.8696\n",
      "Epoch 361/500\n",
      "207/207 [==============================] - 1s 3ms/step - loss: 0.4215 - accuracy: 0.8644 - val_loss: 0.4244 - val_accuracy: 0.8696\n",
      "Epoch 362/500\n",
      "207/207 [==============================] - 1s 3ms/step - loss: 0.4283 - accuracy: 0.8692 - val_loss: 0.4227 - val_accuracy: 0.8696\n",
      "Epoch 363/500\n",
      "207/207 [==============================] - 1s 3ms/step - loss: 0.4248 - accuracy: 0.8692 - val_loss: 0.4226 - val_accuracy: 0.8696\n",
      "Epoch 364/500\n",
      "207/207 [==============================] - 0s 2ms/step - loss: 0.4309 - accuracy: 0.8705 - val_loss: 0.4232 - val_accuracy: 0.8696\n",
      "Epoch 365/500\n",
      "207/207 [==============================] - 1s 3ms/step - loss: 0.4184 - accuracy: 0.8801 - val_loss: 0.4228 - val_accuracy: 0.8696\n",
      "Epoch 366/500\n",
      "207/207 [==============================] - 1s 3ms/step - loss: 0.4174 - accuracy: 0.8608 - val_loss: 0.4223 - val_accuracy: 0.8696\n",
      "Epoch 367/500\n",
      "207/207 [==============================] - 1s 2ms/step - loss: 0.4266 - accuracy: 0.8632 - val_loss: 0.4220 - val_accuracy: 0.8696\n",
      "Epoch 368/500\n",
      "207/207 [==============================] - 1s 2ms/step - loss: 0.4128 - accuracy: 0.8596 - val_loss: 0.4207 - val_accuracy: 0.8696\n",
      "Epoch 369/500\n",
      "207/207 [==============================] - 1s 2ms/step - loss: 0.4180 - accuracy: 0.8608 - val_loss: 0.4195 - val_accuracy: 0.8696\n",
      "Epoch 370/500\n",
      "207/207 [==============================] - 0s 2ms/step - loss: 0.4100 - accuracy: 0.8656 - val_loss: 0.4194 - val_accuracy: 0.8696\n",
      "Epoch 371/500\n",
      "207/207 [==============================] - 1s 3ms/step - loss: 0.4303 - accuracy: 0.8656 - val_loss: 0.4200 - val_accuracy: 0.8696\n",
      "Epoch 372/500\n",
      "207/207 [==============================] - 1s 3ms/step - loss: 0.4287 - accuracy: 0.8632 - val_loss: 0.4197 - val_accuracy: 0.8696\n",
      "Epoch 373/500\n",
      "207/207 [==============================] - 1s 2ms/step - loss: 0.4228 - accuracy: 0.8717 - val_loss: 0.4195 - val_accuracy: 0.8696\n",
      "Epoch 374/500\n",
      "207/207 [==============================] - 1s 3ms/step - loss: 0.3971 - accuracy: 0.8705 - val_loss: 0.4175 - val_accuracy: 0.8696\n",
      "Epoch 375/500\n",
      "207/207 [==============================] - 1s 3ms/step - loss: 0.4051 - accuracy: 0.8717 - val_loss: 0.4176 - val_accuracy: 0.8696\n",
      "Epoch 376/500\n",
      "207/207 [==============================] - 1s 2ms/step - loss: 0.4154 - accuracy: 0.8717 - val_loss: 0.4166 - val_accuracy: 0.8696\n",
      "Epoch 377/500\n",
      "207/207 [==============================] - 1s 3ms/step - loss: 0.4024 - accuracy: 0.8656 - val_loss: 0.4148 - val_accuracy: 0.8696\n",
      "Epoch 378/500\n",
      "207/207 [==============================] - 1s 3ms/step - loss: 0.4012 - accuracy: 0.8741 - val_loss: 0.4149 - val_accuracy: 0.8696\n",
      "Epoch 379/500\n",
      "207/207 [==============================] - 1s 2ms/step - loss: 0.3989 - accuracy: 0.8765 - val_loss: 0.4142 - val_accuracy: 0.8696\n",
      "Epoch 380/500\n",
      "207/207 [==============================] - 1s 2ms/step - loss: 0.3946 - accuracy: 0.8777 - val_loss: 0.4140 - val_accuracy: 0.8696\n",
      "Epoch 381/500\n",
      "207/207 [==============================] - 1s 3ms/step - loss: 0.4051 - accuracy: 0.8668 - val_loss: 0.4127 - val_accuracy: 0.8696\n",
      "Epoch 382/500\n",
      "207/207 [==============================] - 1s 3ms/step - loss: 0.4027 - accuracy: 0.8680 - val_loss: 0.4122 - val_accuracy: 0.8696\n",
      "Epoch 383/500\n",
      "207/207 [==============================] - 1s 3ms/step - loss: 0.4111 - accuracy: 0.8644 - val_loss: 0.4120 - val_accuracy: 0.8696\n",
      "Epoch 384/500\n",
      "207/207 [==============================] - 1s 3ms/step - loss: 0.3988 - accuracy: 0.8717 - val_loss: 0.4121 - val_accuracy: 0.8696\n",
      "Epoch 385/500\n",
      "207/207 [==============================] - 1s 3ms/step - loss: 0.3896 - accuracy: 0.8777 - val_loss: 0.4116 - val_accuracy: 0.8696\n",
      "Epoch 386/500\n",
      "207/207 [==============================] - 1s 4ms/step - loss: 0.4107 - accuracy: 0.8668 - val_loss: 0.4116 - val_accuracy: 0.8696\n",
      "Epoch 387/500\n",
      "207/207 [==============================] - 1s 2ms/step - loss: 0.4156 - accuracy: 0.8620 - val_loss: 0.4104 - val_accuracy: 0.8696\n",
      "Epoch 388/500\n",
      "207/207 [==============================] - 1s 3ms/step - loss: 0.3956 - accuracy: 0.8705 - val_loss: 0.4096 - val_accuracy: 0.8696\n",
      "Epoch 389/500\n",
      "207/207 [==============================] - 0s 2ms/step - loss: 0.4038 - accuracy: 0.8717 - val_loss: 0.4096 - val_accuracy: 0.8696\n",
      "Epoch 390/500\n",
      "207/207 [==============================] - 1s 3ms/step - loss: 0.3965 - accuracy: 0.8680 - val_loss: 0.4094 - val_accuracy: 0.8696\n",
      "Epoch 391/500\n",
      "207/207 [==============================] - 1s 2ms/step - loss: 0.4054 - accuracy: 0.8656 - val_loss: 0.4092 - val_accuracy: 0.8696\n",
      "Epoch 392/500\n",
      "207/207 [==============================] - 1s 3ms/step - loss: 0.4048 - accuracy: 0.8644 - val_loss: 0.4091 - val_accuracy: 0.8804\n",
      "Epoch 393/500\n",
      "207/207 [==============================] - 0s 2ms/step - loss: 0.4072 - accuracy: 0.8680 - val_loss: 0.4088 - val_accuracy: 0.8696\n",
      "Epoch 394/500\n",
      "207/207 [==============================] - 0s 2ms/step - loss: 0.3988 - accuracy: 0.8692 - val_loss: 0.4081 - val_accuracy: 0.8696\n",
      "Epoch 395/500\n",
      "207/207 [==============================] - 1s 2ms/step - loss: 0.3925 - accuracy: 0.8656 - val_loss: 0.4073 - val_accuracy: 0.8696\n",
      "Epoch 396/500\n",
      "207/207 [==============================] - 1s 3ms/step - loss: 0.3998 - accuracy: 0.8596 - val_loss: 0.4076 - val_accuracy: 0.8696\n",
      "Epoch 397/500\n",
      "207/207 [==============================] - 1s 3ms/step - loss: 0.3929 - accuracy: 0.8717 - val_loss: 0.4078 - val_accuracy: 0.8804\n",
      "Epoch 398/500\n",
      "207/207 [==============================] - 1s 3ms/step - loss: 0.3937 - accuracy: 0.8620 - val_loss: 0.4064 - val_accuracy: 0.8696\n",
      "Epoch 399/500\n",
      "207/207 [==============================] - 1s 3ms/step - loss: 0.4119 - accuracy: 0.8584 - val_loss: 0.4069 - val_accuracy: 0.8804\n",
      "Epoch 400/500\n",
      "207/207 [==============================] - 1s 3ms/step - loss: 0.4092 - accuracy: 0.8620 - val_loss: 0.4050 - val_accuracy: 0.8804\n",
      "Epoch 401/500\n",
      "207/207 [==============================] - 1s 3ms/step - loss: 0.3897 - accuracy: 0.8644 - val_loss: 0.4052 - val_accuracy: 0.8696\n",
      "Epoch 402/500\n",
      "207/207 [==============================] - 1s 3ms/step - loss: 0.4106 - accuracy: 0.8705 - val_loss: 0.4067 - val_accuracy: 0.8696\n",
      "Epoch 403/500\n",
      "207/207 [==============================] - 1s 3ms/step - loss: 0.3831 - accuracy: 0.8789 - val_loss: 0.4066 - val_accuracy: 0.8696\n",
      "Epoch 404/500\n",
      "207/207 [==============================] - 1s 3ms/step - loss: 0.3978 - accuracy: 0.8668 - val_loss: 0.4065 - val_accuracy: 0.8696\n",
      "Epoch 405/500\n",
      "207/207 [==============================] - 1s 2ms/step - loss: 0.4070 - accuracy: 0.8729 - val_loss: 0.4045 - val_accuracy: 0.8696\n",
      "Epoch 406/500\n",
      "207/207 [==============================] - 1s 3ms/step - loss: 0.3859 - accuracy: 0.8729 - val_loss: 0.4049 - val_accuracy: 0.8696\n",
      "Epoch 407/500\n",
      "207/207 [==============================] - 1s 3ms/step - loss: 0.3929 - accuracy: 0.8741 - val_loss: 0.4037 - val_accuracy: 0.8696\n",
      "Epoch 408/500\n",
      "207/207 [==============================] - 1s 3ms/step - loss: 0.4024 - accuracy: 0.8620 - val_loss: 0.4028 - val_accuracy: 0.8696\n",
      "Epoch 409/500\n",
      "207/207 [==============================] - 1s 3ms/step - loss: 0.3906 - accuracy: 0.8765 - val_loss: 0.4027 - val_accuracy: 0.8696\n",
      "Epoch 410/500\n",
      "207/207 [==============================] - 1s 3ms/step - loss: 0.3988 - accuracy: 0.8717 - val_loss: 0.4035 - val_accuracy: 0.8696\n",
      "Epoch 411/500\n",
      "207/207 [==============================] - 1s 2ms/step - loss: 0.4041 - accuracy: 0.8717 - val_loss: 0.4033 - val_accuracy: 0.8696\n",
      "Epoch 412/500\n",
      "207/207 [==============================] - 1s 3ms/step - loss: 0.3969 - accuracy: 0.8717 - val_loss: 0.4021 - val_accuracy: 0.8696\n",
      "Epoch 413/500\n",
      "207/207 [==============================] - 1s 2ms/step - loss: 0.3839 - accuracy: 0.8850 - val_loss: 0.4036 - val_accuracy: 0.8696\n",
      "Epoch 414/500\n",
      "207/207 [==============================] - 1s 2ms/step - loss: 0.3815 - accuracy: 0.8729 - val_loss: 0.4024 - val_accuracy: 0.8696\n",
      "Epoch 415/500\n",
      "207/207 [==============================] - 0s 2ms/step - loss: 0.3912 - accuracy: 0.8765 - val_loss: 0.4018 - val_accuracy: 0.8696\n",
      "Epoch 416/500\n",
      "207/207 [==============================] - 1s 3ms/step - loss: 0.3833 - accuracy: 0.8753 - val_loss: 0.4016 - val_accuracy: 0.8696\n",
      "Epoch 417/500\n",
      "207/207 [==============================] - 1s 3ms/step - loss: 0.3910 - accuracy: 0.8717 - val_loss: 0.4017 - val_accuracy: 0.8696\n",
      "Epoch 418/500\n",
      "207/207 [==============================] - 1s 3ms/step - loss: 0.3950 - accuracy: 0.8632 - val_loss: 0.4016 - val_accuracy: 0.8696\n",
      "Epoch 419/500\n",
      "207/207 [==============================] - 1s 3ms/step - loss: 0.3976 - accuracy: 0.8644 - val_loss: 0.4010 - val_accuracy: 0.8696\n",
      "Epoch 420/500\n",
      "207/207 [==============================] - 1s 3ms/step - loss: 0.4056 - accuracy: 0.8668 - val_loss: 0.4015 - val_accuracy: 0.8696\n",
      "Epoch 421/500\n",
      "207/207 [==============================] - 1s 3ms/step - loss: 0.4007 - accuracy: 0.8668 - val_loss: 0.4007 - val_accuracy: 0.8696\n",
      "Epoch 422/500\n",
      "207/207 [==============================] - 1s 2ms/step - loss: 0.3929 - accuracy: 0.8692 - val_loss: 0.4005 - val_accuracy: 0.8696\n",
      "Epoch 423/500\n",
      "207/207 [==============================] - 1s 2ms/step - loss: 0.3982 - accuracy: 0.8608 - val_loss: 0.4007 - val_accuracy: 0.8696\n",
      "Epoch 424/500\n",
      "207/207 [==============================] - 1s 3ms/step - loss: 0.3805 - accuracy: 0.8668 - val_loss: 0.4001 - val_accuracy: 0.8696\n",
      "Epoch 425/500\n",
      "207/207 [==============================] - 1s 3ms/step - loss: 0.3934 - accuracy: 0.8753 - val_loss: 0.3985 - val_accuracy: 0.8696\n",
      "Epoch 426/500\n",
      "207/207 [==============================] - 1s 3ms/step - loss: 0.3909 - accuracy: 0.8717 - val_loss: 0.3971 - val_accuracy: 0.8696\n",
      "Epoch 427/500\n",
      "207/207 [==============================] - 1s 3ms/step - loss: 0.3898 - accuracy: 0.8668 - val_loss: 0.3981 - val_accuracy: 0.8696\n",
      "Epoch 428/500\n",
      "207/207 [==============================] - 1s 3ms/step - loss: 0.3911 - accuracy: 0.8644 - val_loss: 0.3972 - val_accuracy: 0.8696\n",
      "Epoch 429/500\n",
      "207/207 [==============================] - 1s 3ms/step - loss: 0.3954 - accuracy: 0.8608 - val_loss: 0.3978 - val_accuracy: 0.8696\n",
      "Epoch 430/500\n",
      "207/207 [==============================] - 1s 2ms/step - loss: 0.3904 - accuracy: 0.8680 - val_loss: 0.3977 - val_accuracy: 0.8696\n",
      "Epoch 431/500\n",
      "207/207 [==============================] - 1s 3ms/step - loss: 0.3803 - accuracy: 0.8668 - val_loss: 0.3972 - val_accuracy: 0.8696\n",
      "Epoch 432/500\n",
      "207/207 [==============================] - 1s 3ms/step - loss: 0.3804 - accuracy: 0.8729 - val_loss: 0.3979 - val_accuracy: 0.8696\n",
      "Epoch 433/500\n",
      "207/207 [==============================] - 1s 3ms/step - loss: 0.3686 - accuracy: 0.8729 - val_loss: 0.3978 - val_accuracy: 0.8696\n",
      "Epoch 434/500\n",
      "207/207 [==============================] - 1s 3ms/step - loss: 0.4004 - accuracy: 0.8596 - val_loss: 0.3969 - val_accuracy: 0.8696\n",
      "Epoch 435/500\n",
      "207/207 [==============================] - 1s 3ms/step - loss: 0.3856 - accuracy: 0.8680 - val_loss: 0.3985 - val_accuracy: 0.8696\n",
      "Epoch 436/500\n",
      "207/207 [==============================] - 1s 3ms/step - loss: 0.3752 - accuracy: 0.8717 - val_loss: 0.3991 - val_accuracy: 0.8696\n",
      "Epoch 437/500\n",
      "207/207 [==============================] - 1s 3ms/step - loss: 0.3810 - accuracy: 0.8789 - val_loss: 0.3994 - val_accuracy: 0.8696\n",
      "Epoch 438/500\n",
      "207/207 [==============================] - 1s 3ms/step - loss: 0.3814 - accuracy: 0.8801 - val_loss: 0.3989 - val_accuracy: 0.8696\n",
      "Epoch 439/500\n",
      "207/207 [==============================] - 1s 3ms/step - loss: 0.3992 - accuracy: 0.8596 - val_loss: 0.3976 - val_accuracy: 0.8696\n",
      "Epoch 440/500\n",
      "207/207 [==============================] - 1s 3ms/step - loss: 0.3688 - accuracy: 0.8777 - val_loss: 0.3966 - val_accuracy: 0.8696\n",
      "Epoch 441/500\n",
      "207/207 [==============================] - 1s 3ms/step - loss: 0.3869 - accuracy: 0.8656 - val_loss: 0.3980 - val_accuracy: 0.8696\n",
      "Epoch 442/500\n",
      "207/207 [==============================] - 1s 3ms/step - loss: 0.3823 - accuracy: 0.8765 - val_loss: 0.3982 - val_accuracy: 0.8696\n",
      "Epoch 443/500\n",
      "207/207 [==============================] - 1s 3ms/step - loss: 0.3911 - accuracy: 0.8741 - val_loss: 0.3977 - val_accuracy: 0.8696\n",
      "Epoch 444/500\n",
      "207/207 [==============================] - 1s 3ms/step - loss: 0.3738 - accuracy: 0.8692 - val_loss: 0.3978 - val_accuracy: 0.8696\n",
      "Epoch 445/500\n",
      "207/207 [==============================] - 1s 3ms/step - loss: 0.3853 - accuracy: 0.8753 - val_loss: 0.3981 - val_accuracy: 0.8696\n",
      "Epoch 446/500\n",
      "207/207 [==============================] - 1s 3ms/step - loss: 0.3820 - accuracy: 0.8705 - val_loss: 0.3982 - val_accuracy: 0.8696\n",
      "Epoch 447/500\n",
      "207/207 [==============================] - 1s 3ms/step - loss: 0.3893 - accuracy: 0.8705 - val_loss: 0.3953 - val_accuracy: 0.8696\n",
      "Epoch 448/500\n",
      "207/207 [==============================] - 1s 2ms/step - loss: 0.3899 - accuracy: 0.8717 - val_loss: 0.3953 - val_accuracy: 0.8696\n",
      "Epoch 449/500\n",
      "207/207 [==============================] - 1s 3ms/step - loss: 0.3963 - accuracy: 0.8717 - val_loss: 0.3941 - val_accuracy: 0.8696\n",
      "Epoch 450/500\n",
      "207/207 [==============================] - 1s 2ms/step - loss: 0.3811 - accuracy: 0.8705 - val_loss: 0.3935 - val_accuracy: 0.8696\n",
      "Epoch 451/500\n",
      "207/207 [==============================] - 1s 3ms/step - loss: 0.3844 - accuracy: 0.8729 - val_loss: 0.3932 - val_accuracy: 0.8696\n",
      "Epoch 452/500\n",
      "207/207 [==============================] - 1s 3ms/step - loss: 0.3821 - accuracy: 0.8826 - val_loss: 0.3930 - val_accuracy: 0.8696\n",
      "Epoch 453/500\n",
      "207/207 [==============================] - 1s 3ms/step - loss: 0.3851 - accuracy: 0.8717 - val_loss: 0.3938 - val_accuracy: 0.8696\n",
      "Epoch 454/500\n",
      "207/207 [==============================] - 1s 3ms/step - loss: 0.3840 - accuracy: 0.8717 - val_loss: 0.3930 - val_accuracy: 0.8696\n",
      "Epoch 455/500\n",
      "207/207 [==============================] - 1s 3ms/step - loss: 0.3794 - accuracy: 0.8644 - val_loss: 0.3934 - val_accuracy: 0.8696\n",
      "Epoch 456/500\n",
      "207/207 [==============================] - 1s 3ms/step - loss: 0.3735 - accuracy: 0.8717 - val_loss: 0.3922 - val_accuracy: 0.8696\n",
      "Epoch 457/500\n",
      "207/207 [==============================] - 1s 3ms/step - loss: 0.3791 - accuracy: 0.8680 - val_loss: 0.3935 - val_accuracy: 0.8696\n",
      "Epoch 458/500\n",
      "207/207 [==============================] - 1s 3ms/step - loss: 0.3898 - accuracy: 0.8717 - val_loss: 0.3931 - val_accuracy: 0.8696\n",
      "Epoch 459/500\n",
      "207/207 [==============================] - 1s 3ms/step - loss: 0.3999 - accuracy: 0.8692 - val_loss: 0.3936 - val_accuracy: 0.8696\n",
      "Epoch 460/500\n",
      "207/207 [==============================] - 1s 2ms/step - loss: 0.3718 - accuracy: 0.8826 - val_loss: 0.3925 - val_accuracy: 0.8696\n",
      "Epoch 461/500\n",
      "207/207 [==============================] - 1s 3ms/step - loss: 0.3612 - accuracy: 0.8753 - val_loss: 0.3921 - val_accuracy: 0.8696\n",
      "Epoch 462/500\n",
      "207/207 [==============================] - 1s 3ms/step - loss: 0.3708 - accuracy: 0.8717 - val_loss: 0.3933 - val_accuracy: 0.8804\n",
      "Epoch 463/500\n",
      "207/207 [==============================] - 1s 2ms/step - loss: 0.3899 - accuracy: 0.8559 - val_loss: 0.3934 - val_accuracy: 0.8804\n",
      "Epoch 464/500\n",
      "207/207 [==============================] - 1s 3ms/step - loss: 0.3623 - accuracy: 0.8838 - val_loss: 0.3918 - val_accuracy: 0.8804\n",
      "Epoch 465/500\n",
      "207/207 [==============================] - 1s 3ms/step - loss: 0.3995 - accuracy: 0.8717 - val_loss: 0.3926 - val_accuracy: 0.8804\n",
      "Epoch 466/500\n",
      "207/207 [==============================] - 1s 3ms/step - loss: 0.3668 - accuracy: 0.8692 - val_loss: 0.3930 - val_accuracy: 0.8804\n",
      "Epoch 467/500\n",
      "207/207 [==============================] - 1s 3ms/step - loss: 0.3892 - accuracy: 0.8680 - val_loss: 0.3926 - val_accuracy: 0.8804\n",
      "Epoch 468/500\n",
      "207/207 [==============================] - 1s 3ms/step - loss: 0.3708 - accuracy: 0.8741 - val_loss: 0.3918 - val_accuracy: 0.8804\n",
      "Epoch 469/500\n",
      "207/207 [==============================] - 1s 3ms/step - loss: 0.3854 - accuracy: 0.8705 - val_loss: 0.3911 - val_accuracy: 0.8804\n",
      "Epoch 470/500\n",
      "207/207 [==============================] - 1s 3ms/step - loss: 0.3735 - accuracy: 0.8789 - val_loss: 0.3904 - val_accuracy: 0.8804\n",
      "Epoch 471/500\n",
      "207/207 [==============================] - 0s 2ms/step - loss: 0.3662 - accuracy: 0.8656 - val_loss: 0.3913 - val_accuracy: 0.8804\n",
      "Epoch 472/500\n",
      "207/207 [==============================] - 1s 3ms/step - loss: 0.3710 - accuracy: 0.8729 - val_loss: 0.3892 - val_accuracy: 0.8696\n",
      "Epoch 473/500\n",
      "207/207 [==============================] - 1s 3ms/step - loss: 0.3914 - accuracy: 0.8620 - val_loss: 0.3879 - val_accuracy: 0.8696\n",
      "Epoch 474/500\n",
      "207/207 [==============================] - 0s 2ms/step - loss: 0.3885 - accuracy: 0.8705 - val_loss: 0.3884 - val_accuracy: 0.8696\n",
      "Epoch 475/500\n",
      "207/207 [==============================] - 1s 3ms/step - loss: 0.3727 - accuracy: 0.8826 - val_loss: 0.3889 - val_accuracy: 0.8696\n",
      "Epoch 476/500\n",
      "207/207 [==============================] - 1s 3ms/step - loss: 0.3728 - accuracy: 0.8753 - val_loss: 0.3873 - val_accuracy: 0.8804\n",
      "Epoch 477/500\n",
      "207/207 [==============================] - 1s 3ms/step - loss: 0.3836 - accuracy: 0.8741 - val_loss: 0.3880 - val_accuracy: 0.8804\n",
      "Epoch 478/500\n",
      "207/207 [==============================] - 1s 3ms/step - loss: 0.3920 - accuracy: 0.8644 - val_loss: 0.3869 - val_accuracy: 0.8696\n",
      "Epoch 479/500\n",
      "207/207 [==============================] - 1s 2ms/step - loss: 0.3697 - accuracy: 0.8717 - val_loss: 0.3874 - val_accuracy: 0.8696\n",
      "Epoch 480/500\n",
      "207/207 [==============================] - 1s 2ms/step - loss: 0.3816 - accuracy: 0.8717 - val_loss: 0.3868 - val_accuracy: 0.8696\n",
      "Epoch 481/500\n",
      "207/207 [==============================] - 1s 3ms/step - loss: 0.3889 - accuracy: 0.8705 - val_loss: 0.3875 - val_accuracy: 0.8696\n",
      "Epoch 482/500\n",
      "207/207 [==============================] - 1s 3ms/step - loss: 0.3749 - accuracy: 0.8705 - val_loss: 0.3891 - val_accuracy: 0.8804\n",
      "Epoch 483/500\n",
      "207/207 [==============================] - 1s 3ms/step - loss: 0.3856 - accuracy: 0.8680 - val_loss: 0.3883 - val_accuracy: 0.8696\n",
      "Epoch 484/500\n",
      "207/207 [==============================] - 1s 3ms/step - loss: 0.3675 - accuracy: 0.8753 - val_loss: 0.3885 - val_accuracy: 0.8696\n",
      "Epoch 485/500\n",
      "207/207 [==============================] - 1s 3ms/step - loss: 0.3877 - accuracy: 0.8668 - val_loss: 0.3886 - val_accuracy: 0.8696\n",
      "Epoch 486/500\n",
      "207/207 [==============================] - 1s 3ms/step - loss: 0.3732 - accuracy: 0.8680 - val_loss: 0.3892 - val_accuracy: 0.8696\n",
      "Epoch 487/500\n",
      "207/207 [==============================] - 1s 3ms/step - loss: 0.3777 - accuracy: 0.8668 - val_loss: 0.3880 - val_accuracy: 0.8696\n",
      "Epoch 488/500\n",
      "207/207 [==============================] - 1s 4ms/step - loss: 0.3781 - accuracy: 0.8729 - val_loss: 0.3873 - val_accuracy: 0.8696\n",
      "Epoch 489/500\n",
      "207/207 [==============================] - 1s 4ms/step - loss: 0.3654 - accuracy: 0.8644 - val_loss: 0.3859 - val_accuracy: 0.8696\n",
      "Epoch 490/500\n",
      "207/207 [==============================] - 1s 4ms/step - loss: 0.3713 - accuracy: 0.8620 - val_loss: 0.3848 - val_accuracy: 0.8696\n",
      "Epoch 491/500\n",
      "207/207 [==============================] - 1s 3ms/step - loss: 0.3619 - accuracy: 0.8814 - val_loss: 0.3863 - val_accuracy: 0.8804\n",
      "Epoch 492/500\n",
      "207/207 [==============================] - 1s 3ms/step - loss: 0.3750 - accuracy: 0.8692 - val_loss: 0.3853 - val_accuracy: 0.8696\n",
      "Epoch 493/500\n",
      "207/207 [==============================] - 1s 3ms/step - loss: 0.3689 - accuracy: 0.8741 - val_loss: 0.3851 - val_accuracy: 0.8696\n",
      "Epoch 494/500\n",
      "207/207 [==============================] - 1s 3ms/step - loss: 0.3706 - accuracy: 0.8656 - val_loss: 0.3862 - val_accuracy: 0.8804\n",
      "Epoch 495/500\n",
      "207/207 [==============================] - 1s 4ms/step - loss: 0.3703 - accuracy: 0.8789 - val_loss: 0.3853 - val_accuracy: 0.8696\n",
      "Epoch 496/500\n",
      "207/207 [==============================] - 2s 11ms/step - loss: 0.3663 - accuracy: 0.8692 - val_loss: 0.3853 - val_accuracy: 0.8696\n",
      "Epoch 497/500\n",
      "207/207 [==============================] - 1s 4ms/step - loss: 0.3936 - accuracy: 0.8547 - val_loss: 0.3858 - val_accuracy: 0.8696\n",
      "Epoch 498/500\n",
      "207/207 [==============================] - 1s 5ms/step - loss: 0.3679 - accuracy: 0.8705 - val_loss: 0.3850 - val_accuracy: 0.8696\n",
      "Epoch 499/500\n",
      "207/207 [==============================] - 1s 4ms/step - loss: 0.3707 - accuracy: 0.8765 - val_loss: 0.3855 - val_accuracy: 0.8696\n",
      "Epoch 500/500\n",
      "207/207 [==============================] - 1s 5ms/step - loss: 0.3710 - accuracy: 0.8680 - val_loss: 0.3849 - val_accuracy: 0.8804\n"
     ]
    }
   ],
   "source": [
    "# Train the model\n",
    "H = model.fit(xtrn_scaled, ytrn, epochs=nepochs, batch_size=bsize, validation_data=(xtst_scaled, ytst), callbacks=[early_stopping])"
   ]
  },
  {
   "cell_type": "markdown",
   "metadata": {
    "id": "ngzL0o63aHev"
   },
   "source": [
    "Assess loss"
   ]
  },
  {
   "cell_type": "code",
   "execution_count": 29,
   "metadata": {
    "colab": {
     "base_uri": "https://localhost:8080/",
     "height": 490
    },
    "id": "-oeY1H8Zql6C",
    "outputId": "6eff39c9-bd62-43de-8c02-19e2535ed66d"
   },
   "outputs": [
    {
     "data": {
      "text/plain": [
       "<matplotlib.legend.Legend at 0x7f899faa86a0>"
      ]
     },
     "execution_count": 29,
     "metadata": {},
     "output_type": "execute_result"
    },
    {
     "data": {
      "image/png": "[encoded data removed]",
      "text/plain": [
       "<Figure size 640x480 with 1 Axes>"
      ]
     },
     "metadata": {},
     "output_type": "display_data"
    }
   ],
   "source": [
    "plt.plot(H.history['loss'])\n",
    "plt.plot(H.history['val_loss'])\n",
    "plt.title('model loss')\n",
    "plt.ylabel('loss')\n",
    "plt.xlabel('epoch')\n",
    "plt.legend(['train', 'test'], loc='upper left')"
   ]
  },
  {
   "cell_type": "markdown",
   "metadata": {
    "id": "Ca5SHuFFxIno"
   },
   "source": [
    "Training and validation loss both flatten out near zero, indictating that enough epochs were run."
   ]
  },
  {
   "cell_type": "markdown",
   "metadata": {
    "id": "0OxaQTvXqroD"
   },
   "source": [
    "Assess performance"
   ]
  },
  {
   "cell_type": "code",
   "execution_count": 30,
   "metadata": {
    "colab": {
     "base_uri": "https://localhost:8080/",
     "height": 490
    },
    "id": "rgdWG8TWqrGr",
    "outputId": "2dedef3f-3479-4531-d5e5-58470e00e633"
   },
   "outputs": [
    {
     "data": {
      "text/plain": [
       "<matplotlib.legend.Legend at 0x7f899fea6550>"
      ]
     },
     "execution_count": 30,
     "metadata": {},
     "output_type": "execute_result"
    },
    {
     "data": {
      "image/png": "[encoded data removed]",
      "text/plain": [
       "<Figure size 640x480 with 1 Axes>"
      ]
     },
     "metadata": {},
     "output_type": "display_data"
    }
   ],
   "source": [
    "plt.plot(H.history['accuracy'])\n",
    "plt.plot(H.history['val_accuracy'])\n",
    "plt.title('model accuracy')\n",
    "plt.ylabel('accuracy')\n",
    "plt.xlabel('epoch')\n",
    "plt.legend(['train', 'test'], loc='upper left')"
   ]
  },
  {
   "cell_type": "markdown",
   "metadata": {
    "id": "c3tC0GEGxTl8"
   },
   "source": [
    "Training and validation accuracy flatten at around 85%, indicating that enough epochs were run."
   ]
  },
  {
   "cell_type": "markdown",
   "metadata": {
    "id": "fHVgGwwfZhgz"
   },
   "source": [
    "Model performance on test set"
   ]
  },
  {
   "cell_type": "code",
   "execution_count": 31,
   "metadata": {
    "colab": {
     "base_uri": "https://localhost:8080/"
    },
    "id": "HWq3xIhKYbR8",
    "outputId": "39377b50-0223-470a-c8cb-ab64f5afb4aa"
   },
   "outputs": [
    {
     "name": "stdout",
     "output_type": "stream",
     "text": [
      "23/23 [==============================] - 0s 3ms/step - loss: 0.3849 - accuracy: 0.8804\n"
     ]
    },
    {
     "data": {
      "text/plain": [
       "[0.3849221169948578, 0.8804348111152649]"
      ]
     },
     "execution_count": 31,
     "metadata": {},
     "output_type": "execute_result"
    }
   ],
   "source": [
    "model.evaluate(xtst_scaled, ytst, batch_size = bsize)"
   ]
  }
 ],
 "metadata": {
  "colab": {
   "provenance": []
  },
  "kernelspec": {
   "display_name": "Python 3 (ipykernel)",
   "language": "python",
   "name": "python3"
  },
  "language_info": {
   "codemirror_mode": {
    "name": "ipython",
    "version": 3
   },
   "file_extension": ".py",
   "mimetype": "text/x-python",
   "name": "python",
   "nbconvert_exporter": "python",
   "pygments_lexer": "ipython3",
   "version": "3.8.17"
  }
 },
 "nbformat": 4,
 "nbformat_minor": 4
}
